{
 "cells": [
  {
   "cell_type": "code",
   "execution_count": 11,
   "id": "0560f0aa-4037-44b1-9e27-7ca209a0143c",
   "metadata": {},
   "outputs": [
    {
     "name": "stdout",
     "output_type": "stream",
     "text": [
      "    count  mean  max  min\n",
      "반                        \n",
      "1반      2  85.0   90   80\n",
      "2반      3  70.0   80   60\n",
      "3반      2  95.0  100   90\n"
     ]
    }
   ],
   "source": [
    "import pandas as pd\n",
    "\n",
    "data = {\n",
    "    \"반\" : ['1반', '1반', '2반', '2반', '2반', '3반', '3반'],\n",
    "    \"성적\" : [80, 90, 70, 60, 80, 90, 100]\n",
    "}\n",
    "\n",
    "df = pd.DataFrame(data)\n",
    "df\n",
    "\n",
    "df2 = df.groupby('반')\n",
    "result = df2[\"성적\"].agg(['count', 'mean', 'max', 'min'])\n",
    "print(result)"
   ]
  }
 ],
 "metadata": {
  "kernelspec": {
   "display_name": "Python 3 (ipykernel)",
   "language": "python",
   "name": "python3"
  },
  "language_info": {
   "codemirror_mode": {
    "name": "ipython",
    "version": 3
   },
   "file_extension": ".py",
   "mimetype": "text/x-python",
   "name": "python",
   "nbconvert_exporter": "python",
   "pygments_lexer": "ipython3",
   "version": "3.12.4"
  }
 },
 "nbformat": 4,
 "nbformat_minor": 5
}
