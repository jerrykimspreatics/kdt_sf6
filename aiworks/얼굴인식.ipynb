{
 "cells": [
  {
   "cell_type": "code",
   "execution_count": null,
   "id": "ccce6169-9d44-4f74-a92d-5171a0243b7b",
   "metadata": {},
   "outputs": [],
   "source": [
    "import cv2\n",
    "\n",
    "img = cv2.imread(\"./source/children.jpg\")\n",
    "\n",
    "# 이미지를 흑백으로 변환\n",
    "img_gray = cv2.cvtColor(img, cv2.COLOR_BGR2GRAY)\n",
    "\n",
    "# 가중치 파일경로\n",
    "cascade_file = \"haarcascade_frontalface_alt.xml\"\n",
    "\n",
    "#모델 불러오기\n",
    "face_cascade = cv2.CascadeClassifier(cascade_file)\n",
    "\n",
    "# 1.3 - 30%(비율을 반복적으로 줄여감)\n",
    "# 4 - 검출 회수\n",
    "#  detectMultiScale - 객체 탐지 메서드\n",
    "faces = face_cascade.detectMultiScale(img_gray, 1.3, 4)\n",
    "\n",
    "# 얼굴 인식 사각형(rectangle) - x(좌표), y(좌표), w(너비), h(높이), 색상, 두께\n",
    "for (x, y, w, h) in faces:\n",
    "    img = cv2.rectangle(img, (x, y), (x + w, y + h), (255, 0, 0), 3)\n",
    "\n",
    "cv2.imshow('child', img)\n",
    "cv2.waitKey(0)\n",
    "cv2.destroyAllWindows()"
   ]
  }
 ],
 "metadata": {
  "kernelspec": {
   "display_name": "Python 3 (ipykernel)",
   "language": "python",
   "name": "python3"
  },
  "language_info": {
   "codemirror_mode": {
    "name": "ipython",
    "version": 3
   },
   "file_extension": ".py",
   "mimetype": "text/x-python",
   "name": "python",
   "nbconvert_exporter": "python",
   "pygments_lexer": "ipython3",
   "version": "3.12.4"
  }
 },
 "nbformat": 4,
 "nbformat_minor": 5
}
