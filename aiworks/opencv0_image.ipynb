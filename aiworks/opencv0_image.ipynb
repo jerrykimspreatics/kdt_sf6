{
 "cells": [
  {
   "cell_type": "code",
   "execution_count": 3,
   "id": "1a3e74a2-11d4-46e6-9c5f-51e10fbe40ad",
   "metadata": {},
   "outputs": [],
   "source": [
    "import cv2\n",
    "\n",
    "\"\"\"\n",
    "# source 폴더에서 이미지 불러오기\n",
    "- IMREAD_UNCHANGED(컬러읽고 투명부분도 읽어옴)\n",
    "- IMREAD_COLOR(컬러읽고 투명부분은 무시)\n",
    "- IMREAD_GRAYSCALE(회색으로 읽어옴)\n",
    "\"\"\"\n",
    "img = cv2.imread('source/strawberries.jpg', cv2.IMREAD_UNCHANGED)\n",
    "\n",
    "cv2.imshow('strawberries',img) # 새 창으로 띄우기\n",
    "\n",
    "cv2.waitKey(2000)  # 2초 대기후 종료\n",
    "\n",
    "cv2.destroyAllWindows() # 모든 창 닫기"
   ]
  },
  {
   "cell_type": "code",
   "execution_count": 5,
   "id": "ae5be0b4-c025-4af3-a266-446d9c4c6b2b",
   "metadata": {},
   "outputs": [],
   "source": [
    "import cv2\n",
    "\n",
    "img = cv2.imread('source/strawberries.jpg', cv2.IMREAD_COLOR)\n",
    "#이미지를 회색으로 변경\n",
    "img_gray = cv2.cvtColor(img, cv2.COLOR_BGR2GRAY)  \n",
    "\n",
    "cv2.imshow('strawberries',img_gray) \n",
    "\n",
    "cv2.waitKey(0)\n",
    "\n",
    "cv2.destroyAllWindows() "
   ]
  },
  {
   "cell_type": "code",
   "execution_count": 1,
   "id": "a999c929-09db-4107-ab47-518cf7a06ee1",
   "metadata": {},
   "outputs": [
    {
     "name": "stdout",
     "output_type": "stream",
     "text": [
      "113\n",
      "q\n"
     ]
    }
   ],
   "source": [
    "import cv2\n",
    "\n",
    "img = cv2.imread('source/strawberries.jpg', cv2.IMREAD_COLOR)\n",
    "#이미지를 회색으로 변경\n",
    "img_gray = cv2.cvtColor(img, cv2.COLOR_BGR2GRAY)  \n",
    "\n",
    "cv2.imshow('strawberries',img_gray) \n",
    "\n",
    "key = cv2.waitKey(0)\n",
    "if key == ord('q'):\n",
    "    print(key)\n",
    "    print(chr(key))\n",
    "\n",
    "cv2.destroyAllWindows() "
   ]
  },
  {
   "cell_type": "code",
   "execution_count": 8,
   "id": "e12189c3-661c-4aa0-a6de-f674fd094594",
   "metadata": {},
   "outputs": [],
   "source": [
    "import cv2\n",
    "\n",
    "# 이미지를 흑백으로 불러오기 \n",
    "img_dog = cv2.imread('source/dog2.jpg', cv2.IMREAD_GRAYSCALE)\n",
    "\n",
    "cv2.imshow('dog',img_dog) # 새 창으로 띄우기\n",
    "\n",
    "cv2.waitKey(0)  # 무한 대기\n",
    "\n",
    "# output 폴더에 저장하기\n",
    "cv2.imwrite('output/dog2.jpg', img_dog)\n",
    "\n",
    "cv2.destroyAllWindows()"
   ]
  },
  {
   "cell_type": "code",
   "execution_count": 18,
   "id": "9940d7d8-d174-469f-b5b1-d5f23ee39b77",
   "metadata": {},
   "outputs": [
    {
     "name": "stdout",
     "output_type": "stream",
     "text": [
      "img.shape  (853, 1280, 3)\n",
      "height  853\n",
      "width  1280\n"
     ]
    }
   ],
   "source": [
    "import cv2\n",
    "\n",
    "img = cv2.imread('./source/dog1.jpg', cv2.IMREAD_COLOR)\n",
    "print('img.shape ', img.shape)\n",
    "\n",
    "# height, width, channel = img.shape\n",
    "height, width = img.shape[:2]\n",
    "\n",
    "print('height ', height)\n",
    "print('width ', width)\n",
    "# print('channel', channel)"
   ]
  }
 ],
 "metadata": {
  "kernelspec": {
   "display_name": "Python 3 (ipykernel)",
   "language": "python",
   "name": "python3"
  },
  "language_info": {
   "codemirror_mode": {
    "name": "ipython",
    "version": 3
   },
   "file_extension": ".py",
   "mimetype": "text/x-python",
   "name": "python",
   "nbconvert_exporter": "python",
   "pygments_lexer": "ipython3",
   "version": "3.12.4"
  }
 },
 "nbformat": 4,
 "nbformat_minor": 5
}
