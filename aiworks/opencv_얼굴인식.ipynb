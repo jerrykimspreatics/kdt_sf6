{
 "cells": [
  {
   "cell_type": "code",
   "execution_count": 29,
   "id": "cad559f9-cfaf-4f60-aa5c-f9c8c99a0624",
   "metadata": {},
   "outputs": [],
   "source": [
    "import cv2\n",
    "\n",
    "img = cv2.imread('source/child.jpg')\n",
    "\n",
    "# 이미지를 흑백으로 변환\n",
    "img_gray = cv2.cvtColor(img, cv2.COLOR_BGRA2GRAY, cv2.IMREAD_COLOR)\n",
    "\n",
    "# 가중치 파일 경로\n",
    "cascade_filename = 'haarcascade_frontalface_alt.xml'\n",
    "\n",
    "# 모델 불러오기\n",
    "# CascadeClassifier - 다단계 분류기로 머신러닝 기반의 객체 검출 알고리즘 구현\n",
    "face_cascade = cv2.CascadeClassifier(cascade_filename)\n",
    "\n",
    "# 객체 탐지 알고리즘 실행 - detectMultiScale()\n",
    "# scaleFactor-비율만큼 반복적으로 줄여감(그림을 30% 줄여감)\n",
    "# minNeighbors-최소 추가 검출 횟수로 0은 한번이라도 얼굴로 검출된 것을 모두 표시, 1은 2회 검출\n",
    "faces = face_cascade.detectMultiScale(img_gray, 1.3, 4)\n",
    "# 좌표 - x, y 크기 - w, h 색상 두께\n",
    "for (x, y, w, h) in faces:\n",
    "    img = cv2.rectangle(img, (x, y), (x + w, y + h), (255, 0, 0), 3)\n",
    "\n",
    "cv2.imshow('child', img)\n",
    "cv2.waitKey(0)\n",
    "cv2.destroyAllWindows()"
   ]
  }
 ],
 "metadata": {
  "kernelspec": {
   "display_name": "Python 3 (ipykernel)",
   "language": "python",
   "name": "python3"
  },
  "language_info": {
   "codemirror_mode": {
    "name": "ipython",
    "version": 3
   },
   "file_extension": ".py",
   "mimetype": "text/x-python",
   "name": "python",
   "nbconvert_exporter": "python",
   "pygments_lexer": "ipython3",
   "version": "3.12.4"
  }
 },
 "nbformat": 4,
 "nbformat_minor": 5
}
