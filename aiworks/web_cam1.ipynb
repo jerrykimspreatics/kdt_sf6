{
 "cells": [
  {
   "cell_type": "code",
   "execution_count": 1,
   "id": "9e977a63-e1e2-4af2-bd60-1c59408d3912",
   "metadata": {},
   "outputs": [],
   "source": [
    "# 웹 캠에 연결\n",
    "import cv2\n",
    "\n",
    "cap=cv2.VideoCapture(0)                  # 0번 카메라에 연결\n",
    "\n",
    "if cap.isOpened():                  \n",
    "    while True:\n",
    "        ret, img=cap.read()              # 카메라를 읽습니다\n",
    "        if ret:\n",
    "            cv2.imshow('camera',img)     # 이미지를 표시합니다\n",
    "            if cv2.waitKey(10) != -1:    # 10ms동안 키 입력을 대기\n",
    "                break                    # 키가 입력되면 중지합니다\n",
    "\n",
    "else:\n",
    "    print(\"can't open camera\")\n",
    "cap.release()\n",
    "cv2.destroyAllWindows()"
   ]
  },
  {
   "cell_type": "code",
   "execution_count": 5,
   "id": "eebae991-a287-40c2-bea6-85c7dc367b79",
   "metadata": {},
   "outputs": [],
   "source": [
    "# 웹 캠으로 사진 찍기\n",
    "\n",
    "import cv2\n",
    "\n",
    "cap=cv2.VideoCapture(0)                         # 0번 카메라에 연결\n",
    "\n",
    "if cap.isOpened():                  \n",
    "    while True:\n",
    "        ret, img=cap.read()                     # 카메라를 읽습니다\n",
    "        if ret:\n",
    "            cv2.imshow('camera',img)            # 이미지를 표시합니다\n",
    "            if cv2.waitKey(10) != -1:           # 10ms동안 키 입력을 대기\n",
    "                cv2.imwrite('./source/jerry2.jpg', img)   # 사진을 저장\n",
    "                break                           # 키가 입력되면 중지합니다\n",
    "\n",
    "else:\n",
    "    print(\"can't open camera\")\n",
    "cap.release()\n",
    "cv2.destroyAllWindows()"
   ]
  }
 ],
 "metadata": {
  "kernelspec": {
   "display_name": "Python 3 (ipykernel)",
   "language": "python",
   "name": "python3"
  },
  "language_info": {
   "codemirror_mode": {
    "name": "ipython",
    "version": 3
   },
   "file_extension": ".py",
   "mimetype": "text/x-python",
   "name": "python",
   "nbconvert_exporter": "python",
   "pygments_lexer": "ipython3",
   "version": "3.12.4"
  }
 },
 "nbformat": 4,
 "nbformat_minor": 5
}
