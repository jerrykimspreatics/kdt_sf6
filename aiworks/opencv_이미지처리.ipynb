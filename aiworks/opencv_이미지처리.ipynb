{
 "cells": [
  {
   "cell_type": "code",
   "execution_count": 1,
   "id": "3a51d31f-09a6-441a-b72c-739ec88b74aa",
   "metadata": {},
   "outputs": [
    {
     "name": "stdout",
     "output_type": "stream",
     "text": [
      "Requirement already satisfied: opencv-python in c:\\users\\kiyon\\anaconda3\\lib\\site-packages (4.10.0.84)\n",
      "Requirement already satisfied: numpy>=1.21.2 in c:\\users\\kiyon\\anaconda3\\lib\\site-packages (from opencv-python) (1.26.4)\n"
     ]
    }
   ],
   "source": [
    "!pip install opencv-python"
   ]
  },
  {
   "cell_type": "markdown",
   "id": "efe2bf32-5f06-4a02-9d73-372850da16a2",
   "metadata": {},
   "source": [
    "### 이미지 파일 읽어오기"
   ]
  },
  {
   "cell_type": "code",
   "execution_count": null,
   "id": "835c2708-1ec2-4ffe-85fe-9635d0d6ba5b",
   "metadata": {},
   "outputs": [],
   "source": [
    "# 설치 - install opencv-python\n",
    "# 임포트 - import cv2\n",
    "\n",
    "import cv2\n",
    "\n",
    "# 1. 파일 읽기 - imread(파일경로, 옵션)\n",
    "\"\"\"\n",
    "IMREAD_COLOR - 이미지를 컬러로 읽음(투명한 부분은 무시)\n",
    "IMREAD_GRAYSCALE - 이미지를 흑백으로 읽음\n",
    "IMREAD_UNCHANGED - 이미지를 컬러로 읽음(투명한 부분한 읽음)\n",
    "\"\"\"\n",
    "# 2. 창 띄우기\n",
    "# imshow(\"창제목\", 파일)\n",
    "\n",
    "# 3. 창 닫기\n",
    "# destoryAllWindows()"
   ]
  },
  {
   "cell_type": "code",
   "execution_count": 16,
   "id": "7bd3a86f-2c1f-4687-8c14-9e15f8b897f9",
   "metadata": {},
   "outputs": [],
   "source": [
    "import cv2\n",
    "\n",
    "# 파일 읽기\n",
    "img = cv2.imread(\"source/dog1.jpg\", cv2.IMREAD_COLOR)\n",
    "\n",
    "# 창 띄우기\n",
    "cv2.imshow(\"Dog\", img)\n",
    "\n",
    "# 창 대기(5000-5초, 0-무한대기<어떤키를 눌러도 창 닫힘>)\n",
    "# cv2.waitKey(5000)\n",
    "cv2.waitKey(0)\n",
    "\n",
    "# 창 닫기\n",
    "cv2.destroyAllWindows()"
   ]
  },
  {
   "cell_type": "markdown",
   "id": "574913f9-7370-4597-8fb6-8a2ba6f509aa",
   "metadata": {},
   "source": [
    "### 파일 저장하기"
   ]
  },
  {
   "cell_type": "code",
   "execution_count": 45,
   "id": "046d20f7-5cd0-4e15-a5df-7d1812d95be6",
   "metadata": {},
   "outputs": [
    {
     "name": "stdout",
     "output_type": "stream",
     "text": [
      "113\n"
     ]
    }
   ],
   "source": [
    "import cv2\n",
    "\n",
    "# 파일 읽기 - 흑백이미지 읽기\n",
    "img = cv2.imread(\"source/dog2.jpg\", cv2.IMREAD_GRAYSCALE)\n",
    "\n",
    "# 창 띄우기\n",
    "cv2.imshow(\"Dog\", img)\n",
    "\n",
    "# 창 대기(5000-5초, 0-무한대기<어떤키를 눌러도 창 닫힘>)\n",
    "# key - 'q'인 경우 창 닫기\n",
    "# ord(문자) - 코드값\n",
    "# 'q'키를 눌렀을때 창이 닫힘\n",
    "key = cv2.waitKey(0)\n",
    "if key == ord('q'):\n",
    "    print(key)\n",
    "\n",
    "# 'output' 폴더에 저장하기 - imwrite(파일경로, 파일)\n",
    "cv2.imwrite(\"./output/new_dog.jpg\", img)\n",
    "\n",
    "# 창 닫기\n",
    "cv2.destroyAllWindows()"
   ]
  },
  {
   "cell_type": "code",
   "execution_count": 5,
   "id": "757b70f7-b589-413c-9ad8-2b88c5bf21be",
   "metadata": {},
   "outputs": [],
   "source": [
    "# 이미지 색상 변경하기\n",
    "# cvtColor(파일, 색상 옵션)\n",
    "# COLOR_BGR2GRAY\n",
    "\n",
    "import cv2\n",
    "\n",
    "dog = cv2.imread('source/dog2.jpg', cv2.IMREAD_COLOR)\n",
    "# 흑백 이미지로 변경\n",
    "dog_gray = cv2.cvtColor(dog, cv2.COLOR_BGR2GRAY)\n",
    "\n",
    "cv2.imshow('Dog', dog_gray)\n",
    "\n",
    "cv2.waitKey(0)\n",
    "\n",
    "cv2.destroyAllWindows()"
   ]
  }
 ],
 "metadata": {
  "kernelspec": {
   "display_name": "Python 3 (ipykernel)",
   "language": "python",
   "name": "python3"
  },
  "language_info": {
   "codemirror_mode": {
    "name": "ipython",
    "version": 3
   },
   "file_extension": ".py",
   "mimetype": "text/x-python",
   "name": "python",
   "nbconvert_exporter": "python",
   "pygments_lexer": "ipython3",
   "version": "3.12.4"
  }
 },
 "nbformat": 4,
 "nbformat_minor": 5
}
