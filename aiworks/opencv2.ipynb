{
 "cells": [
  {
   "cell_type": "code",
   "execution_count": 7,
   "id": "9606407f-cac0-4668-aa23-b253cb63ec71",
   "metadata": {},
   "outputs": [],
   "source": [
    "import cv2\n",
    "\n",
    "# 동영상 파일 경로 설정 (파일 이름은 업로드된 파일로 대체)\n",
    "video_path = \"source/nature.mp4\"\n",
    "\n",
    "# 비디오 캡처 객체 생성\n",
    "cap = cv2.VideoCapture(video_path)\n",
    "\n",
    "# 동영상 재생\n",
    "while cap.isOpened():\n",
    "    ret, frame = cap.read()\n",
    "    \n",
    "    if not ret:\n",
    "        print(\"동영상 재생이 완료되었습니다.\")\n",
    "        break\n",
    "    \n",
    "    cv2.imshow('video', frame)\n",
    "    \n",
    "    # 속도 조절 (프레임 사이에 잠시 대기)\n",
    "    if cv2.waitKey(25) & 0xFF == ord('q'):\n",
    "        break\n",
    "\n",
    "# 캡처 객체 해제\n",
    "cap.release()\n",
    "cv2.destroyAllWindows()"
   ]
  },
  {
   "cell_type": "code",
   "execution_count": null,
   "id": "2c045ca1-df14-4c1f-872a-be817ea5f6cb",
   "metadata": {},
   "outputs": [],
   "source": []
  }
 ],
 "metadata": {
  "kernelspec": {
   "display_name": "Python 3 (ipykernel)",
   "language": "python",
   "name": "python3"
  },
  "language_info": {
   "codemirror_mode": {
    "name": "ipython",
    "version": 3
   },
   "file_extension": ".py",
   "mimetype": "text/x-python",
   "name": "python",
   "nbconvert_exporter": "python",
   "pygments_lexer": "ipython3",
   "version": "3.12.4"
  }
 },
 "nbformat": 4,
 "nbformat_minor": 5
}
