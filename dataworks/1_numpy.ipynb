{
 "cells": [
  {
   "cell_type": "code",
   "execution_count": 45,
   "id": "562a3ed0-4d06-4380-b84b-dc48a7f4225b",
   "metadata": {},
   "outputs": [
    {
     "name": "stdout",
     "output_type": "stream",
     "text": [
      "[1, 2, 3, 4, 5, 6, 7, 8]\n",
      "[1 2 3 4]\n",
      "<class 'numpy.ndarray'>\n",
      "(4,)\n",
      "int32\n"
     ]
    }
   ],
   "source": [
    "import numpy as np\n",
    "\n",
    "# 일반 리스트와 numpy 리스트와 비교\n",
    "num1 = [1, 2, 3, 4]\n",
    "num1\n",
    "\n",
    "num2 = [5, 6, 7, 8]\n",
    "num2\n",
    "print(num1 + num2)\n",
    "\n",
    "# 넘파이로 리스트를 생성\n",
    "x = np.array([1, 2, 3, 4])\n",
    "print(x)\n",
    "print(type(x))\n",
    "print(x.shape)  #(1, 4) -> (4, )\n",
    "print(x.dtype)"
   ]
  },
  {
   "cell_type": "code",
   "execution_count": 47,
   "id": "335b84fb-c2a1-43b8-a443-c51a68153451",
   "metadata": {},
   "outputs": [
    {
     "name": "stdout",
     "output_type": "stream",
     "text": [
      "[3. 6. 9.]\n",
      "[-1. -2. -3.]\n",
      "[ 2.  8. 18.]\n",
      "[0.5 0.5 0.5]\n",
      "float64\n"
     ]
    }
   ],
   "source": [
    "# numpy 연산\n",
    "# 1차원 리스트에서는 원소의 개수가 다르면 오류 발생\n",
    "x = np.array([1.0, 2.0, 3.0])\n",
    "y = np.array([2.0, 4.0, 6.0])\n",
    "\n",
    "print(x + y)\n",
    "print(x - y)\n",
    "print(x * y)\n",
    "print(x / y)\n",
    "print(x.dtype)"
   ]
  },
  {
   "cell_type": "code",
   "execution_count": 27,
   "id": "b9634915-c9f9-4654-8b3c-21cde14cf43c",
   "metadata": {},
   "outputs": [
    {
     "name": "stdout",
     "output_type": "stream",
     "text": [
      "['1' '2' 'a' 'b']\n",
      "['생수', '감자', 100, True]\n"
     ]
    }
   ],
   "source": [
    "# numpy는 한 가지 자료형만 허용\n",
    "a = np.array([1, 2, 'a', 'b'])\n",
    "print(a)\n",
    "\n",
    "# 일반 리스트 - 여러가지 자료형 허용\n",
    "cart = ['생수', '감자', 100, True]\n",
    "print(cart)"
   ]
  },
  {
   "cell_type": "code",
   "execution_count": 39,
   "id": "405e8786-29f9-472d-9ae3-e359c01daff9",
   "metadata": {},
   "outputs": [
    {
     "name": "stdout",
     "output_type": "stream",
     "text": [
      "[[1 2]\n",
      " [3 4]]\n",
      "(2, 2)\n"
     ]
    },
    {
     "ename": "ValueError",
     "evalue": "setting an array element with a sequence. The requested array has an inhomogeneous shape after 1 dimensions. The detected shape was (2,) + inhomogeneous part.",
     "output_type": "error",
     "traceback": [
      "\u001b[1;31m---------------------------------------------------------------------------\u001b[0m",
      "\u001b[1;31mValueError\u001b[0m                                Traceback (most recent call last)",
      "Cell \u001b[1;32mIn[39], line 7\u001b[0m\n\u001b[0;32m      4\u001b[0m \u001b[38;5;28mprint\u001b[39m(a)\n\u001b[0;32m      5\u001b[0m \u001b[38;5;28mprint\u001b[39m(b\u001b[38;5;241m.\u001b[39mshape)\n\u001b[1;32m----> 7\u001b[0m b \u001b[38;5;241m=\u001b[39m \u001b[43mnp\u001b[49m\u001b[38;5;241;43m.\u001b[39;49m\u001b[43marray\u001b[49m\u001b[43m(\u001b[49m\u001b[43m[\u001b[49m\u001b[43m[\u001b[49m\u001b[38;5;241;43m1\u001b[39;49m\u001b[43m,\u001b[49m\u001b[38;5;241;43m2\u001b[39;49m\u001b[43m]\u001b[49m\u001b[43m,\u001b[49m\u001b[43m \u001b[49m\u001b[43m[\u001b[49m\u001b[38;5;241;43m3\u001b[39;49m\u001b[43m]\u001b[49m\u001b[43m]\u001b[49m\u001b[43m)\u001b[49m\n\u001b[0;32m      8\u001b[0m \u001b[38;5;28mprint\u001b[39m(b)\n",
      "\u001b[1;31mValueError\u001b[0m: setting an array element with a sequence. The requested array has an inhomogeneous shape after 1 dimensions. The detected shape was (2,) + inhomogeneous part."
     ]
    }
   ],
   "source": [
    "# 넘파이 이차원 리스트\n",
    "# 내부 리스트의 원소의 개수가 같아야 함 - 오류 발생\n",
    "a = np.array([[1,2], [3, 4]])\n",
    "print(a)\n",
    "print(b.shape)\n",
    "\n",
    "b = np.array([[1,2], [3]])\n",
    "print(b)"
   ]
  },
  {
   "cell_type": "code",
   "execution_count": 53,
   "id": "738d8270-db67-42c8-95d4-3c8e96b73a76",
   "metadata": {},
   "outputs": [
    {
     "name": "stdout",
     "output_type": "stream",
     "text": [
      "[[0. 0. 0.]\n",
      " [0. 0. 0.]\n",
      " [0. 0. 0.]]\n",
      "(3, 3)\n",
      "[[1. 1. 1.]\n",
      " [1. 1. 1.]]\n"
     ]
    }
   ],
   "source": [
    "# zeros() - 리스트의 모든 원소를 0으로 설정\n",
    "# ones() - - 리스트의 모든 원소를 1로 설정\n",
    "a1 = np.zeros((3, 3))\n",
    "print(a1)\n",
    "print(a1.shape)\n",
    "\n",
    "a2 = np.ones((2, 3))\n",
    "print(a2)"
   ]
  },
  {
   "cell_type": "code",
   "execution_count": 67,
   "id": "cbc06bd2-a74f-4cbc-b7b0-8cfdbbdcc3e7",
   "metadata": {},
   "outputs": [
    {
     "name": "stdout",
     "output_type": "stream",
     "text": [
      "range(0, 10)\n",
      "[0, 1, 2, 3, 4, 5, 6, 7, 8, 9]\n",
      "[ 1  2  3  4  5  6  7  8  9 10]\n",
      "[3 4 5 6 7 8]\n",
      "[3 5 7]\n"
     ]
    }
   ],
   "source": [
    "# np.arange()\n",
    "\n",
    "import numpy as np\n",
    "\n",
    "print(range(10))\n",
    "print(list(range(10)))\n",
    "\n",
    "a = np.arange(10) + 1\n",
    "print(a)\n",
    "\n",
    "a2 = np.arange(3, 9)\n",
    "print(a2)\n",
    "\n",
    "a3 = np.arange(3, 9, 2)\n",
    "print(a3)"
   ]
  }
 ],
 "metadata": {
  "kernelspec": {
   "display_name": "Python 3 (ipykernel)",
   "language": "python",
   "name": "python3"
  },
  "language_info": {
   "codemirror_mode": {
    "name": "ipython",
    "version": 3
   },
   "file_extension": ".py",
   "mimetype": "text/x-python",
   "name": "python",
   "nbconvert_exporter": "python",
   "pygments_lexer": "ipython3",
   "version": "3.12.4"
  }
 },
 "nbformat": 4,
 "nbformat_minor": 5
}
