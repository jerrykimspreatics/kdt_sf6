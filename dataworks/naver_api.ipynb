{
 "cells": [
  {
   "cell_type": "markdown",
   "id": "d0f84a75-0b1f-4800-8fab-5707cc175953",
   "metadata": {},
   "source": [
    "#### 네이버 블로그 데이터 수집하기"
   ]
  },
  {
   "cell_type": "code",
   "execution_count": 20,
   "id": "988ba6e0-0988-46b1-89ad-27c5da639242",
   "metadata": {},
   "outputs": [
    {
     "name": "stdout",
     "output_type": "stream",
     "text": [
      "{'lastBuildDate': 'Fri, 23 Aug 2024 19:22:44 +0900', 'total': 11, 'start': 1, 'display': 10, 'items': [{'title': '[포스코x코딩온] 포스코와 함께하는 웹 개발자 부트캠프 9기... ', 'link': 'https://blog.naver.com/spreatics2/223341764368', 'description': 'com/<b>spreatics2</b>/223338312218 이 게시글을 참고해 주세요  웹 9기의 수료식도 크게 1. 롤링 페이퍼 및 소감 발표 2. 수료증 수여 및 단체 사진 촬영 순서로 진행되었는데요 웹 9기분들도 정말 귀엽게... ', 'bloggername': '코딩온 공식블로그', 'bloggerlink': 'blog.naver.com/spreatics2', 'postdate': '20240202'}, {'title': '[코딩온] 전 직원 해외 워크샵 2탄(아이슬란드편) / 폭설에 조난... ', 'link': 'https://blog.naver.com/spreatics2/223358536115', 'description': '12기(~2/19)가 수료 후 전원 일본 IT Show 여행을 보내주는 것을 알고계셨나요?? 혹시 흥미가 있으시다면... com/<b>spreatics2</b>/223355784114 셋째날에는 시내를 구경하기로 하였는데요! 아이슬란드 수도인 레이캬비크로... ', 'bloggername': '코딩온 공식블로그', 'bloggerlink': 'blog.naver.com/spreatics2', 'postdate': '20240219'}, {'title': '[포스코x코딩온] 포스코와 함께하는 웹 개발자 부트캠프 8기... ', 'link': 'https://blog.naver.com/spreatics2/223338312218', 'description': '롤링 페이퍼 및 소감 발표 2. 수료증 수여 및 단체 사진 촬영 순서로 진행되었습니다!! 다들... https://blog.naver.com/<b>spreatics2</b>/223305465858 열심히 수료식을 진행해 주시는 CREW리더님.. 그리고 수료식... ', 'bloggername': '코딩온 공식블로그', 'bloggerlink': 'blog.naver.com/spreatics2', 'postdate': '20240130'}, {'title': '[코딩온] 전 직원 해외 워크샵 1탄(아이슬란드편) / 디지털... ', 'link': 'https://blog.naver.com/spreatics2/223355784114', 'description': '12기(~2/19)가 수료 후 전원 일본 IT Show 여행을 보내주는 것을 알고계셨나요?? 혹시 흥미가 있으시다면... - 아이슬란드 2편 - https://blog.naver.com/<b>spreatics2</b>/223358536115 한국에서 아이슬란드까지는 직항이 없어 다들... ', 'bloggername': '코딩온 공식블로그', 'bloggerlink': 'blog.naver.com/spreatics2', 'postdate': '20240216'}, {'title': '[코딩온 후기] 다들 비추천하는 개발자 국비교육을 두 번이나?... ', 'link': 'https://blog.naver.com/spreatics2/223296303897', 'description': '새싹 수료식 살펴보기 https://blog.naver.com/<b>spreatics2</b>/223318243444 ☁️ 웹 개발자 후기 살펴보기 https://blog.naver.com/<b>spreatics2</b>/223325481188 코딩온 크루들의 다양한 후기 둘러보기 ♀️개발자 취업을 향한 도전!... ', 'bloggername': '코딩온 공식블로그', 'bloggerlink': 'blog.naver.com/spreatics2', 'postdate': '20231218'}, {'title': '[포스코x코딩온-스마트팩토리 개발자 2기] 교육장 탐방', 'link': 'https://blog.naver.com/spreatics2/223108847566', 'description': '포스코DX에 최종 합격한 스마트팩토리 1기 박지원 CREW의 인터뷰 글을 마지막으로 포스팅 마무리 할게요 https://blog.naver.com/<b>spreatics2</b>/223100456056 ▲ 박지원 CREW의 포스코DX 취업 성공 인터뷰 보러가기 ▲', 'bloggername': '코딩온 공식블로그', 'bloggerlink': 'blog.naver.com/spreatics2', 'postdate': '20230522'}, {'title': '[코딩온 홈페이지 만들기 #5] html 제목', 'link': 'https://blog.naver.com/spreatics2/222346500859', 'description': '홈페이지 만들기 4탄에서 알아보았던 서식을 이용해 다양하게 꾸며 예쁜 홈페이지로 만들어보세요~ https://blog.naver.com/<b>spreatics2</b>/222345112416 오늘 정보도 유익하셨나요? #코딩온 #온라인 강의를 수강하시면... ', 'bloggername': '코딩온 공식블로그', 'bloggerlink': 'blog.naver.com/spreatics2', 'postdate': '20210511'}, {'title': '서울특별시 전액국비지원 서울형 청년인턴 직무캠프 웹(Web)개발', 'link': 'https://blog.naver.com/youni7505/222315145596', 'description': '맞춤형 실무 교육, 인성 교육 - 프로젝트를 통한 실무 역량 강화 ○ 활동혜택 - 국비지원 무료교육, 인턴십 기회 ○ 접수방법 - 홈페이지 접수 ○ 문의 - (주)스프레틱스 : 02-6953-2751 / ****@*********.***', 'bloggername': '평범한 세상 살기', 'bloggerlink': 'blog.naver.com/youni7505', 'postdate': '20210419'}, {'title': '[K-Digital Training] POSCO x CODINGOn 웹개발자 양성... ', 'link': 'https://blog.naver.com/youthzone_db/222725925308', 'description': '컨설팅 ▷지원하는 방법 - 온라인 신청 1) 코딩온 홈페이지 : https://codingon.co.kr/pr/kdt/miniintern <b>2</b>) 구글폼 신청서 작성 : https://bit.ly/3rY1FKe ▷ 문의처 - 전화 : ***-****-**** - 메일 : ****@*********.***', 'bloggername': '무중력지대 대방동', 'bloggerlink': 'blog.naver.com/youthzone_db', 'postdate': '20220509'}, {'title': '[K-Digital Training] POSCO x CODINGOn 웹개발자 양성... ', 'link': 'https://blog.naver.com/yongsanyouthspace/222725963429', 'description': '컨설팅 ▷지원하는 방법 - 온라인 신청 1) 코딩온 홈페이지 : https://codingon.co.kr/pr/kdt/miniintern <b>2</b>) 구글폼 신청서 작성 : https://bit.ly/3rY1FKe ▷ 문의처 - 전화 : ***-****-**** - 메일 : ****@*********.***', 'bloggername': '용산 청년지음', 'bloggerlink': 'blog.naver.com/yongsanyouthspace', 'postdate': '20220509'}]}\n"
     ]
    }
   ],
   "source": [
    "# 네이버 검색 API 예제 - 블로그 검색\n",
    "import urllib.request\n",
    "import json\n",
    "\n",
    "client_id = \"kfaf6Epnpmm8TOjR3RGj\"\n",
    "client_secret = \"nc3v9jisp5\"\n",
    "\n",
    "encText = urllib.parse.quote(\"spreatics2\")\n",
    "url = \"https://openapi.naver.com/v1/search/blog?query=\" + encText # JSON 결과\n",
    "# url = \"https://openapi.naver.com/v1/search/blog.xml?query=\" + encText # XML 결과\n",
    "# print(url)\n",
    "\n",
    "request = urllib.request.Request(url)  #요청\n",
    "request.add_header(\"X-Naver-Client-Id\",client_id)\n",
    "request.add_header(\"X-Naver-Client-Secret\",client_secret)\n",
    "\n",
    "response = urllib.request.urlopen(request) #응답\n",
    "rescode = response.getcode()\n",
    "if(rescode==200):\n",
    "    response_body = response.read()\n",
    "    # print(response_body.decode('utf-8'))  # 해독 - 사람이 볼수 있는 언어\n",
    "    result = json.loads(response_body.decode('utf-8'))\n",
    "else:\n",
    "    print(\"Error Code:\" + rescode)\n",
    "print(result)"
   ]
  },
  {
   "cell_type": "code",
   "execution_count": 36,
   "id": "8466715e-c087-4bfd-9383-dd7f51caff62",
   "metadata": {},
   "outputs": [
    {
     "name": "stdout",
     "output_type": "stream",
     "text": [
      "[포스코x코딩온] 포스코와 함께하는 웹 개발자 부트캠프 9기... \n",
      "com/<b>spreatics2</b>/223338312218 이 게시글을 참고해 주세요  웹 9기의 수료식도 크게 1. 롤링 페이퍼 및 소감 발표 2. 수료증 수여 및 단체 사진 촬영 순서로 진행되었는데요 웹 9기분들도 정말 귀엽게... \n"
     ]
    }
   ],
   "source": [
    "result['display']\n",
    "result['lastBuildDate']\n",
    "# print(result['items'][0])\n",
    "print(result['items'][0]['title'])\n",
    "print(result['items'][0]['description'])"
   ]
  },
  {
   "cell_type": "markdown",
   "id": "9ef15b84-4eab-4e5c-a528-a3e29f6395a9",
   "metadata": {},
   "source": [
    "#### 네이버 도서 자료 수집하기"
   ]
  },
  {
   "cell_type": "code",
   "execution_count": 71,
   "id": "5034f283-72ff-4ef9-9645-ba277b8c0094",
   "metadata": {},
   "outputs": [
    {
     "name": "stdout",
     "output_type": "stream",
     "text": [
      "{'lastBuildDate': 'Fri, 23 Aug 2024 20:12:57 +0900', 'total': 1030, 'start': 1, 'display': 5, 'items': [{'title': '엑셀X파이썬 (엑셀이 파이썬을 품었다)', 'link': 'https://search.shopping.naver.com/book/catalog/49255941621', 'image': 'https://shopping-phinf.pstatic.net/main_4925594/49255941621.20240720092116.jpg', 'author': '정성일', 'discount': '22500', 'publisher': '길벗', 'pubdate': '20240730', 'isbn': '9791140710195', 'description': '엑셀이 파이썬을 품었다\\n\\nMS 365 엑셀에 파이썬을 통합하는 강력한 기능이 업데이트되었다. 이제 엑셀의 셀에 ‘=PY’ 함수를 입력하면 파이썬 코드를 직접 실행할 수 있다. 별도의 라이브러리 설치 없이 복잡한 차트 생성과 데이터 분석을 엑셀에서 손쉽게 수행할 수 있다. 이 책은 엑셀에서 파이썬을 사용하는 기본적인 방법부터 다양한 파이썬 라이브러리를 활용하여 주식 시세 분석, 알고리즘 구현 등 주요 데이터 분석 및 시각화 라이브러리를 제대로 활용하는 방법을 소개한다. 엑셀과 파이썬의 조합으로 빅데이터 시대에 걸맞는 데이터 분석 경쟁력을 한층 더 강화할 수 있을 것이다.\\n\\n엑셀에서 파이썬을!\\n파이썬 코드를 엑셀 함수처럼!\\n\\n엑셀이 파이썬을 품었다. MS 365 엑셀의 업데이트로 엑셀 시트에서 직접 데이터를 선택하여 셀에 파이썬 코드를 입력하면 결과를 바로 확인할 수 있습니다. 이제 엑셀에서 파이썬을 엑셀 함수처럼 사용해 보세요. 라이브러리를 추가로 설치하거나 충돌을 걱정할 필요도 없습니다. 엑셀 파이썬을 활용하면 주식 시세 데이터를 이동 평균선 등으로 시각화하거나 데이터 분석 알고리즘을 사용해 가상 매매 프로그램을 만들어 수익률을 검증하고 투자 전략을 보완할 수 있습니다. 의사결정나무, 이상 탐지 등 검증된 파이썬 라이브러리로 알고리즘을 간단하게 구현할 수 있습니다.'}, {'title': '혼자 공부하는 파이썬 (1:1 과외하듯 배우는 프로그래밍 자습서)', 'link': 'https://search.shopping.naver.com/book/catalog/32507605957', 'image': 'https://shopping-phinf.pstatic.net/main_3250760/32507605957.20230509170119.jpg', 'author': '윤인성', 'discount': '19800', 'publisher': '한빛미디어', 'pubdate': '20220601', 'isbn': '9791162245651', 'description': '혼자 해도 충분하다! 1:1 과외하듯 배우는 파이썬 프로그래밍 자습서\\n\\n『혼자 공부하는 파이썬』이 더욱 흥미있고 알찬 내용으로 개정되었습니다. 프로그래밍이 정말 처음인 입문자도 따라갈 수 있는 친절한 설명과 단계별 학습은 그대로! 혼자 공부하더라도 체계적으로 계획을 세워 학습할 수 있도록 ‘혼공 계획표’를 새롭게 추가했습니다. 또한 입문자가 자주 물어보는 질문과 오류 해결 방법을 적재적소에 배치하여 예상치 못한 문제에 부딪혀도 좌절하지 않고 끝까지 완독할 수 있도록 도와줍니다. 단순한 문법 암기와 코딩 따라하기에 지쳤다면, 새로운 혼공파와 함께 ‘누적 예제’와 ‘도전 문제’로 프로그래밍의 신세계를 경험해 보세요! 배운 내용을 씹고 뜯고 맛보고 즐기다 보면 응용력은 물론 알고리즘 사고력까지 키워 코딩 실력이 쑥쑥 성장할 것입니다.\\n\\n이 책은 독학으로 파이썬을 배우는 입문자가 ‘꼭 필요한 내용을 제대로 학습’할 수 있도록 구성했습니다. 뭘 모르는지조차 모르는 입문자의 막연한 마음에 십분 공감하여 과외 선생님이 알려주듯 친절하게, 핵심적인 내용만 콕콕 집어줍니다. 책의 첫 페이지를 펼쳐서 마지막 페이지를 덮을 때까지, 혼자서도 충분히 파이썬을 배울 수 있다는 자신감과 확신이 계속될 것입니다!\\n\\n베타리더와 함께 입문자에게 맞는 난이도, 분량, 학습 요소 등을 적극 반영했습니다. 어려운 용어와 개념은 한 번 더 풀어쓰고, 복잡한 설명은 눈에 잘 들어오는 그림으로 풀어냈습니다. ‘혼자 공부해 본’ 여러 입문자의 초심과 눈높이가 책 곳곳에 반영된 것이 이 책의 가장 큰 장점입니다.'}, {'title': 'Do it! 점프 투 파이썬 (중학생도 첫날부터 실습하는 초고속 입문서)', 'link': 'https://search.shopping.naver.com/book/catalog/40354085633', 'image': 'https://shopping-phinf.pstatic.net/main_4035408/40354085633.20230927071024.jpg', 'author': '박응용', 'discount': '19800', 'publisher': '이지스퍼블리싱', 'pubdate': '20230615', 'isbn': '9791163034735', 'description': '프로그래밍 분야 8년 연속 베스트셀러!\\n《Do it! 점프 투 파이썬》 전면 개정 2판 출시!\\n\\n중고등학생도, 비전공자도, 직장인도 프로그래밍에 눈뜨게 만든 바로 그 책이 전면 개정 2판으로 새롭게 태어났다! 챗GPT를 시작으로 펼쳐진 생성 AI 시대에 맞춰 설명과 예제를 다듬고, 최신 경향과 심화 내용을 보충했다. 또한 이번 개정 2판도 50만 코딩 유튜버인 조코딩과 협업을 통해 유튜브 동영상을 제공해 파이썬을 더 쉽게 공부할 수 있다.\\n\\n8년 연속 베스트셀러! 위키독스 누적 방문 300만! 독자의 입에서 입으로 전해진 추천과 수많은 대학 및 학원의 교재 채택을 통해 검증은 이미 끝났다. 코딩을 처음 배우는 중고등학생부터 코딩 소양을 기르려는 비전공자, 자기계발에 진심인 직장인까지! 이 책과 함께 파이썬 프로그래밍의 세계로 ‘점프’해 보자!'}, {'title': '커리어 스킬업 파이썬 업무 자동화 (일잘러를 위한 파이썬 기초와 웹 크롤링 강의)', 'link': 'https://search.shopping.naver.com/book/catalog/48518927623', 'image': 'https://shopping-phinf.pstatic.net/main_4851892/48518927623.20240618091417.jpg', 'author': '손원준', 'discount': '23400', 'publisher': '길벗', 'pubdate': '20240620', 'isbn': '9791140713899', 'description': '반복되는 업무를 파이썬으로 자동화해 보세요!\\n똑똑하게 일하는 일잘러가 될 수 있습니다.\\n\\n코딩은 이제 선택이 아니라 필수입니다. ‘전공자가 아닌데 코딩을 배워야 하나?’, ‘파이썬이 내 업무와 대체 무슨 관련이 있을까?’라고 반문하는 사람도 막상 파이썬을 배우면 업무의 많은 부분을 자동화할 수 있다는 걸 알게 됩니다. 이 책은 코딩을 아예 모르는 초보자도 배울 수 있도록 파이썬 기초부터 시작해 웹 크롤링과 업무 자동화까지 단계적으로 설명합니다. 업무 자동화의 신세계를 만나고 싶다면 이 책으로 시작하세요! \\n\\n〈주요 내용〉\\n1. 파이썬 설치와 기초 문법 \\n2. 웹 크롤링으로 원하는 데이터 수집하는 방법 \\n3. API를 이용한 자동화 프로그램 만들기\\n4. 엑셀 작업 자동화하기'}, {'title': '파이썬', 'link': 'https://search.shopping.naver.com/book/catalog/32438172833', 'image': 'https://shopping-phinf.pstatic.net/main_3243817/32438172833.20230920072917.jpg', 'author': '김영천', 'discount': '24500', 'publisher': '기한재', 'pubdate': '20200225', 'isbn': '9788970187990', 'description': '▶ 이 책은 Python(파이썬)을 다룬 이론서입니다. Python(파이썬)의 기초적이고 전반적인 내용을 학습할 수 있습니다.'}]}\n"
     ]
    }
   ],
   "source": [
    "import urllib.request\n",
    "import json\n",
    "import pandas as pd\n",
    "\n",
    "def create_url(api_node, search_text, start_num, disp_num):\n",
    "    base = \"https://openapi.naver.com/v1/search/\"\n",
    "    node = api_node + \".json\"\n",
    "    param_query = \"?query=\" + urllib.parse.quote(search_text)\n",
    "    param_start = \"&start=\" + str(start_num)\n",
    "    param_disp = \"&display=\" + str(disp_num)\n",
    "    return base + node + param_query + param_start + param_disp\n",
    "\n",
    "url = create_url('book', '파이썬', 1, 5) # 호출\n",
    "\n",
    "# 네이버 api 등록 정보\n",
    "client_id = \"kfaf6Epnpmm8TOjR3RGj\"\n",
    "client_secret = \"nc3v9jisp5\"\n",
    "\n",
    "#요청\n",
    "request = urllib.request.Request(url)  \n",
    "request.add_header(\"X-Naver-Client-Id\",client_id)\n",
    "request.add_header(\"X-Naver-Client-Secret\",client_secret)\n",
    "\n",
    "#응답\n",
    "response = urllib.request.urlopen(request) \n",
    "rescode = response.getcode()\n",
    "if(rescode==200):\n",
    "    response_body = response.read()\n",
    "    result = json.loads(response_body.decode('utf-8'))\n",
    "else:\n",
    "    print(\"Error Code:\" + rescode)\n",
    "print(result)"
   ]
  },
  {
   "cell_type": "code",
   "execution_count": 73,
   "id": "9107bfdd-2b48-4890-96be-896056263754",
   "metadata": {},
   "outputs": [
    {
     "data": {
      "text/html": [
       "<div>\n",
       "<style scoped>\n",
       "    .dataframe tbody tr th:only-of-type {\n",
       "        vertical-align: middle;\n",
       "    }\n",
       "\n",
       "    .dataframe tbody tr th {\n",
       "        vertical-align: top;\n",
       "    }\n",
       "\n",
       "    .dataframe thead th {\n",
       "        text-align: right;\n",
       "    }\n",
       "</style>\n",
       "<table border=\"1\" class=\"dataframe\">\n",
       "  <thead>\n",
       "    <tr style=\"text-align: right;\">\n",
       "      <th></th>\n",
       "      <th>제목</th>\n",
       "      <th>저자</th>\n",
       "      <th>출판사</th>\n",
       "    </tr>\n",
       "  </thead>\n",
       "  <tbody>\n",
       "    <tr>\n",
       "      <th>0</th>\n",
       "      <td>엑셀X파이썬 (엑셀이 파이썬을 품었다)</td>\n",
       "      <td>정성일</td>\n",
       "      <td>길벗</td>\n",
       "    </tr>\n",
       "    <tr>\n",
       "      <th>1</th>\n",
       "      <td>혼자 공부하는 파이썬 (1:1 과외하듯 배우는 프로그래밍 자습서)</td>\n",
       "      <td>윤인성</td>\n",
       "      <td>한빛미디어</td>\n",
       "    </tr>\n",
       "    <tr>\n",
       "      <th>2</th>\n",
       "      <td>Do it! 점프 투 파이썬 (중학생도 첫날부터 실습하는 초고속 입문서)</td>\n",
       "      <td>박응용</td>\n",
       "      <td>이지스퍼블리싱</td>\n",
       "    </tr>\n",
       "    <tr>\n",
       "      <th>3</th>\n",
       "      <td>커리어 스킬업 파이썬 업무 자동화 (일잘러를 위한 파이썬 기초와 웹 크롤링 강의)</td>\n",
       "      <td>손원준</td>\n",
       "      <td>길벗</td>\n",
       "    </tr>\n",
       "    <tr>\n",
       "      <th>4</th>\n",
       "      <td>파이썬</td>\n",
       "      <td>김영천</td>\n",
       "      <td>기한재</td>\n",
       "    </tr>\n",
       "  </tbody>\n",
       "</table>\n",
       "</div>"
      ],
      "text/plain": [
       "                                              제목   저자      출판사\n",
       "0                          엑셀X파이썬 (엑셀이 파이썬을 품었다)  정성일       길벗\n",
       "1           혼자 공부하는 파이썬 (1:1 과외하듯 배우는 프로그래밍 자습서)  윤인성    한빛미디어\n",
       "2       Do it! 점프 투 파이썬 (중학생도 첫날부터 실습하는 초고속 입문서)  박응용  이지스퍼블리싱\n",
       "3  커리어 스킬업 파이썬 업무 자동화 (일잘러를 위한 파이썬 기초와 웹 크롤링 강의)  손원준       길벗\n",
       "4                                            파이썬  김영천      기한재"
      ]
     },
     "execution_count": 73,
     "metadata": {},
     "output_type": "execute_result"
    }
   ],
   "source": [
    "result['items'][0]\n",
    "# print(result['items'][0]['title'])\n",
    "# for i in range(5):\n",
    "#     print(result['items'][i]['title'])\n",
    "# 리스트 내포 - 책제목, 작가, 출판사\n",
    "title = [ result['items'][i]['title'] for i in range(5)]\n",
    "# print(title)\n",
    "author = [ result['items'][i]['author'] for i in range(5)]\n",
    "# print(author)\n",
    "publisher = [ result['items'][i]['publisher'] for i in range(5)]\n",
    "# print(publisher)\n",
    "\n",
    "# DataFrame 생성\n",
    "python_book = pd.DataFrame({\n",
    "    '제목': title,\n",
    "    '저자': author,\n",
    "    '출판사': publisher\n",
    "})\n",
    "python_book"
   ]
  },
  {
   "cell_type": "code",
   "execution_count": 99,
   "id": "645f1f60-62d8-4e13-b112-e5da7a832d7e",
   "metadata": {},
   "outputs": [
    {
     "data": {
      "text/html": [
       "<div>\n",
       "<style scoped>\n",
       "    .dataframe tbody tr th:only-of-type {\n",
       "        vertical-align: middle;\n",
       "    }\n",
       "\n",
       "    .dataframe tbody tr th {\n",
       "        vertical-align: top;\n",
       "    }\n",
       "\n",
       "    .dataframe thead th {\n",
       "        text-align: right;\n",
       "    }\n",
       "</style>\n",
       "<table border=\"1\" class=\"dataframe\">\n",
       "  <thead>\n",
       "    <tr style=\"text-align: right;\">\n",
       "      <th></th>\n",
       "      <th>제목</th>\n",
       "      <th>저자</th>\n",
       "      <th>출판사</th>\n",
       "    </tr>\n",
       "    <tr>\n",
       "      <th>도서번호</th>\n",
       "      <th></th>\n",
       "      <th></th>\n",
       "      <th></th>\n",
       "    </tr>\n",
       "  </thead>\n",
       "  <tbody>\n",
       "    <tr>\n",
       "      <th>1</th>\n",
       "      <td>엑셀X파이썬 (엑셀이 파이썬을 품었다)</td>\n",
       "      <td>정성일</td>\n",
       "      <td>길벗</td>\n",
       "    </tr>\n",
       "    <tr>\n",
       "      <th>2</th>\n",
       "      <td>혼자 공부하는 파이썬 (1:1 과외하듯 배우는 프로그래밍 자습서)</td>\n",
       "      <td>윤인성</td>\n",
       "      <td>한빛미디어</td>\n",
       "    </tr>\n",
       "    <tr>\n",
       "      <th>3</th>\n",
       "      <td>Do it! 점프 투 파이썬 (중학생도 첫날부터 실습하는 초고속 입문서)</td>\n",
       "      <td>박응용</td>\n",
       "      <td>이지스퍼블리싱</td>\n",
       "    </tr>\n",
       "    <tr>\n",
       "      <th>4</th>\n",
       "      <td>커리어 스킬업 파이썬 업무 자동화 (일잘러를 위한 파이썬 기초와 웹 크롤링 강의)</td>\n",
       "      <td>손원준</td>\n",
       "      <td>길벗</td>\n",
       "    </tr>\n",
       "    <tr>\n",
       "      <th>5</th>\n",
       "      <td>파이썬</td>\n",
       "      <td>김영천</td>\n",
       "      <td>기한재</td>\n",
       "    </tr>\n",
       "  </tbody>\n",
       "</table>\n",
       "</div>"
      ],
      "text/plain": [
       "                                                 제목   저자      출판사\n",
       "도서번호                                                             \n",
       "1                             엑셀X파이썬 (엑셀이 파이썬을 품었다)  정성일       길벗\n",
       "2              혼자 공부하는 파이썬 (1:1 과외하듯 배우는 프로그래밍 자습서)  윤인성    한빛미디어\n",
       "3          Do it! 점프 투 파이썬 (중학생도 첫날부터 실습하는 초고속 입문서)  박응용  이지스퍼블리싱\n",
       "4     커리어 스킬업 파이썬 업무 자동화 (일잘러를 위한 파이썬 기초와 웹 크롤링 강의)  손원준       길벗\n",
       "5                                               파이썬  김영천      기한재"
      ]
     },
     "execution_count": 99,
     "metadata": {},
     "output_type": "execute_result"
    }
   ],
   "source": [
    "# 실습 3\n",
    "import pandas as pd\n",
    "\n",
    "python_book = pd.DataFrame({\n",
    "    '도서번호': [1, 2, 3, 4, 5],\n",
    "    '제목': title,\n",
    "    '저자': author,\n",
    "    '출판사': publisher\n",
    "})\n",
    "python_book\n",
    "python_book = python_book.set_index('도서번호')\n",
    "# print(python_book)\n",
    "\n",
    "# csv 파일 만들기\n",
    "python_book.to_csv(\"./datas/python_book.csv\")\n",
    "\n",
    "# csv 파일 읽기\n",
    "python_book = pd.read_csv(\"./datas/python_book.csv\", index_col=0)\n",
    "python_book"
   ]
  }
 ],
 "metadata": {
  "kernelspec": {
   "display_name": "Python 3 (ipykernel)",
   "language": "python",
   "name": "python3"
  },
  "language_info": {
   "codemirror_mode": {
    "name": "ipython",
    "version": 3
   },
   "file_extension": ".py",
   "mimetype": "text/x-python",
   "name": "python",
   "nbconvert_exporter": "python",
   "pygments_lexer": "ipython3",
   "version": "3.12.4"
  }
 },
 "nbformat": 4,
 "nbformat_minor": 5
}
