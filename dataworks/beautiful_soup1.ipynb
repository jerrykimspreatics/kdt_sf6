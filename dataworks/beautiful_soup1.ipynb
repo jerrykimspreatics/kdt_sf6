{
 "cells": [
  {
   "cell_type": "code",
   "execution_count": 12,
   "metadata": {},
   "outputs": [
    {
     "name": "stdout",
     "output_type": "stream",
     "text": [
      "[<li>인공지능</li>, <li>빅데이터</li>, <li>스마트팩토리</li>]\n",
      "<li>빅데이터</li>\n",
      "빅데이터\n",
      "<ul class=\"comlang\">\n",
      "<li>Python</li>\n",
      "<li>C++</li>\n",
      "<li>Java</li>\n",
      "</ul>\n",
      "\n",
      "Python\n",
      "C++\n",
      "Java\n",
      "\n"
     ]
    }
   ],
   "source": [
    "# BeautifulSoup 사용 - pip install BeautifulSoup4\n",
    "from bs4 import BeautifulSoup\n",
    "\n",
    "html_str = '''\n",
    "<html>\n",
    "  <body>\n",
    "    <div id=\"content\">\n",
    "      <ul class=\"industry\">\n",
    "        <li>인공지능</li>\n",
    "        <li>빅데이터</li>\n",
    "        <li>스마트팩토리</li>\n",
    "      </ul>\n",
    "      <ul class=\"comlang\">\n",
    "        <li>Python</li>\n",
    "        <li>C++</li>\n",
    "        <li>Java</li>\n",
    "      </ul>\n",
    "    </div>\n",
    "  </body>\n",
    "</html>\n",
    "'''\n",
    "# BeautifulSoup(html텍스트, 'html.parser')\n",
    "soup = BeautifulSoup(html_str, \"html.parser\")\n",
    "# find(\"태그 선택자\") - 처음 나오는 태그의 텍스트를 가져옴(찾음)\n",
    "first_ul = soup.find('ul')\n",
    "# print(first_ul)\n",
    "# print(first_ul.text) #태그가 없는 텍스트만\n",
    "\n",
    "# li의 모든 요소를 찾기\n",
    "first_all_li = first_ul.find_all('li')\n",
    "print(first_all_li)  #li의 요소를 리스트로 반환\n",
    "print(first_all_li[1])\n",
    "print(first_all_li[1].text)\n",
    "\n",
    "# class의 값이 comlang인 데이터 가져오기\n",
    "# second_ul = soup.find('ul', attrs={'class': 'comlang'})\n",
    "second_ul = soup.find('ul', class_= 'comlang')\n",
    "print(second_ul)\n",
    "print(second_ul.text)"
   ]
  }
 ],
 "metadata": {
  "kernelspec": {
   "display_name": "base",
   "language": "python",
   "name": "python3"
  },
  "language_info": {
   "codemirror_mode": {
    "name": "ipython",
    "version": 3
   },
   "file_extension": ".py",
   "mimetype": "text/x-python",
   "name": "python",
   "nbconvert_exporter": "python",
   "pygments_lexer": "ipython3",
   "version": "3.12.4"
  }
 },
 "nbformat": 4,
 "nbformat_minor": 2
}
