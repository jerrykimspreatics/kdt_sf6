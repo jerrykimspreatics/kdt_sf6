{
 "cells": [
  {
   "cell_type": "code",
   "execution_count": 19,
   "metadata": {},
   "outputs": [
    {
     "name": "stdout",
     "output_type": "stream",
     "text": [
      "관람시간\n",
      "\n",
      "\n",
      "월/화/목/금/일 10:00 ~ 18:00\n",
      "수/토 10:00 ~ 21:00\n",
      "   * 입장 마감은 폐관30분 전까지\n",
      "관람료\n",
      "\n",
      "\n",
      "무료 특별전시는 유료\n"
     ]
    }
   ],
   "source": [
    "# 국립중앙박물관 - 관람시간, 관람료 가져오기\n",
    "import requests\n",
    "from bs4 import BeautifulSoup\n",
    "\n",
    "url = \"https://www.museum.go.kr/site/main/home\"\n",
    "res = requests.get(url)\n",
    "# print(resp.text)\n",
    "html = BeautifulSoup(res.text, 'html.parser')\n",
    "# print(html)\n",
    "\n",
    "# ul > li(2개)\n",
    "infos = html.select(\"ul.main-info-area > li\")\n",
    "# print(infos)\n",
    "\n",
    "# for info in infos:\n",
    "#   print(info.text.strip())\n",
    "\n",
    "print(infos[0].text.strip()) #공백 제거\n",
    "print(infos[1].text.strip()) \n",
    "\n",
    "# 관람 시간\n",
    "# info_time = html.select_one('li.info')\n",
    "# print(info_time.text.strip())\n",
    "\n",
    "# 관람료\n",
    "# admission = html.select_one(\"li.admission\")\n",
    "# print(admission.text.strip())"
   ]
  }
 ],
 "metadata": {
  "kernelspec": {
   "display_name": "base",
   "language": "python",
   "name": "python3"
  },
  "language_info": {
   "codemirror_mode": {
    "name": "ipython",
    "version": 3
   },
   "file_extension": ".py",
   "mimetype": "text/x-python",
   "name": "python",
   "nbconvert_exporter": "python",
   "pygments_lexer": "ipython3",
   "version": "3.12.4"
  }
 },
 "nbformat": 4,
 "nbformat_minor": 2
}
