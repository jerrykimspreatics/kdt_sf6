{
 "cells": [
  {
   "cell_type": "markdown",
   "id": "792d2cd3-1b36-49bc-b65e-3ce7c8cc8aaf",
   "metadata": {},
   "source": [
    "###### Series 클래스 - 데이터(리스트, 튜플, 딕셔너리)가 순차적으로 나열된 1차원 리스트의 형태를 갖는다."
   ]
  },
  {
   "cell_type": "code",
   "execution_count": 5,
   "id": "8c771483-ca38-4641-946c-3301c8ea7a8c",
   "metadata": {},
   "outputs": [
    {
     "name": "stdout",
     "output_type": "stream",
     "text": [
      "a    1\n",
      "b    2\n",
      "c    3\n",
      "dtype: int64\n",
      "<class 'pandas.core.series.Series'>\n"
     ]
    }
   ],
   "source": [
    "import pandas as pd\n",
    "# 딕셔너리로 시리즈 만들기('키'가 인덱스임)\n",
    "dict_data = {'a': 1, 'b': 2, 'c': 3}\n",
    "\n",
    "# Series(데이터, 인덱스(행의 이름표))\n",
    "sr = pd.Series(dict_data)\n",
    "print(sr)\n",
    "print(type(sr))"
   ]
  },
  {
   "cell_type": "code",
   "execution_count": 11,
   "id": "5d7577b9-ec80-41b3-a790-84b902fd7929",
   "metadata": {},
   "outputs": [
    {
     "name": "stdout",
     "output_type": "stream",
     "text": [
      "0    2024-08-22\n",
      "1            10\n",
      "2         apple\n",
      "3          True\n",
      "dtype: object\n",
      "RangeIndex(start=0, stop=4, step=1)\n",
      "['2024-08-22' 10 'apple' True]\n"
     ]
    }
   ],
   "source": [
    "# 리스트로 시리즈 만들기(기본 인덱스 (0, 1..)\n",
    "list_data = ['2024-08-22', 10, 'apple', True]\n",
    "\n",
    "# 인덱스를 지정하지 않은 경우\n",
    "sr = pd.Series(list_data)\n",
    "print(sr)\n",
    "print(sr.index) # 인덱스 출력\n",
    "print(sr.values) # 데이터 자료(값)"
   ]
  },
  {
   "cell_type": "code",
   "execution_count": 9,
   "id": "6b1c3c1c-0998-468f-ab2b-042ce426f286",
   "metadata": {},
   "outputs": [
    {
     "name": "stdout",
     "output_type": "stream",
     "text": [
      "2018    143\n",
      "2019    150\n",
      "2020    157\n",
      "2021    160\n",
      "Name: Height, dtype: int64\n",
      "150\n",
      "150\n"
     ]
    }
   ],
   "source": [
    "import pandas as pd\n",
    "\n",
    "height = [143, 150, 157, 160]\n",
    "index=[\"2018\", \"2019\", \"2020\", \"2021\"]\n",
    "\n",
    "# 인덱스를 지정한 경우\n",
    "growth = pd.Series(height, index=index, name='Height')\n",
    "print(growth)\n",
    "# print(growth['2019'])\n",
    "# loc[행(문자)], iloc[인덱스(숫자)]\n",
    "print(growth.loc['2019'])\n",
    "print(growth.iloc[1])"
   ]
  },
  {
   "cell_type": "code",
   "execution_count": 13,
   "id": "ffe293f6-2f47-4294-81e7-b676bb245afe",
   "metadata": {},
   "outputs": [
    {
     "data": {
      "text/plain": [
       "밀가루     4 cups\n",
       "우유       1 cup\n",
       "계란     2 large\n",
       "참치캔      1 can\n",
       "Name: Dinner, dtype: object"
      ]
     },
     "execution_count": 13,
     "metadata": {},
     "output_type": "execute_result"
    }
   ],
   "source": [
    "# 실습 1. \n",
    "data = ['4 cups', '1 cup', '2 large', '1 can']\n",
    "index = ['밀가루', '우유', '계란', '참치캔']\n",
    "\n",
    "sr = pd.Series(data, index=index, name='Dinner')\n",
    "sr"
   ]
  }
 ],
 "metadata": {
  "kernelspec": {
   "display_name": "Python 3 (ipykernel)",
   "language": "python",
   "name": "python3"
  },
  "language_info": {
   "codemirror_mode": {
    "name": "ipython",
    "version": 3
   },
   "file_extension": ".py",
   "mimetype": "text/x-python",
   "name": "python",
   "nbconvert_exporter": "python",
   "pygments_lexer": "ipython3",
   "version": "3.12.4"
  }
 },
 "nbformat": 4,
 "nbformat_minor": 5
}
