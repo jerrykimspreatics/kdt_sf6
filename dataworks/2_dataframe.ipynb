{
 "cells": [
  {
   "cell_type": "markdown",
   "id": "86aa7f3b-7648-48ac-9123-b0608b5252d1",
   "metadata": {},
   "source": [
    "##### pandas - DataFrame 클래스 : 행(row)과 열(column)로 이루어진 2차원 리스트이다. "
   ]
  },
  {
   "cell_type": "code",
   "execution_count": 2,
   "id": "32886873-1a6a-4a1f-b2a4-7d642910c121",
   "metadata": {},
   "outputs": [
    {
     "data": {
      "text/html": [
       "<div>\n",
       "<style scoped>\n",
       "    .dataframe tbody tr th:only-of-type {\n",
       "        vertical-align: middle;\n",
       "    }\n",
       "\n",
       "    .dataframe tbody tr th {\n",
       "        vertical-align: top;\n",
       "    }\n",
       "\n",
       "    .dataframe thead th {\n",
       "        text-align: right;\n",
       "    }\n",
       "</style>\n",
       "<table border=\"1\" class=\"dataframe\">\n",
       "  <thead>\n",
       "    <tr style=\"text-align: right;\">\n",
       "      <th></th>\n",
       "      <th>영희</th>\n",
       "      <th>철수</th>\n",
       "    </tr>\n",
       "  </thead>\n",
       "  <tbody>\n",
       "    <tr>\n",
       "      <th>2018</th>\n",
       "      <td>143</td>\n",
       "      <td>165</td>\n",
       "    </tr>\n",
       "    <tr>\n",
       "      <th>2019</th>\n",
       "      <td>150</td>\n",
       "      <td>172</td>\n",
       "    </tr>\n",
       "    <tr>\n",
       "      <th>2020</th>\n",
       "      <td>157</td>\n",
       "      <td>175</td>\n",
       "    </tr>\n",
       "    <tr>\n",
       "      <th>2021</th>\n",
       "      <td>160</td>\n",
       "      <td>180</td>\n",
       "    </tr>\n",
       "  </tbody>\n",
       "</table>\n",
       "</div>"
      ],
      "text/plain": [
       "       영희   철수\n",
       "2018  143  165\n",
       "2019  150  172\n",
       "2020  157  175\n",
       "2021  160  180"
      ]
     },
     "execution_count": 2,
     "metadata": {},
     "output_type": "execute_result"
    }
   ],
   "source": [
    "import pandas as pd\n",
    "# 1. 시리즈 결합해서 데이터프레임 만들기\n",
    "index=[\"2018\", \"2019\", \"2020\", \"2021\"]\n",
    "\n",
    "younghee = pd.Series([143, 150, 157, 160], index=index)\n",
    "cheolsu = pd.Series([165, 172, 175, 180], index=index)\n",
    "\n",
    "growth = pd.DataFrame({\n",
    "    '영희': younghee,\n",
    "    '철수': cheolsu\n",
    "})\n",
    "growth"
   ]
  },
  {
   "cell_type": "code",
   "execution_count": 1,
   "id": "a52a6eb1-8f9c-4fe0-9448-fca7e78992a3",
   "metadata": {},
   "outputs": [
    {
     "data": {
      "text/html": [
       "<div>\n",
       "<style scoped>\n",
       "    .dataframe tbody tr th:only-of-type {\n",
       "        vertical-align: middle;\n",
       "    }\n",
       "\n",
       "    .dataframe tbody tr th {\n",
       "        vertical-align: top;\n",
       "    }\n",
       "\n",
       "    .dataframe thead th {\n",
       "        text-align: right;\n",
       "    }\n",
       "</style>\n",
       "<table border=\"1\" class=\"dataframe\">\n",
       "  <thead>\n",
       "    <tr style=\"text-align: right;\">\n",
       "      <th></th>\n",
       "      <th>영희</th>\n",
       "      <th>철수</th>\n",
       "    </tr>\n",
       "  </thead>\n",
       "  <tbody>\n",
       "    <tr>\n",
       "      <th>2018</th>\n",
       "      <td>143</td>\n",
       "      <td>165</td>\n",
       "    </tr>\n",
       "    <tr>\n",
       "      <th>2019</th>\n",
       "      <td>150</td>\n",
       "      <td>172</td>\n",
       "    </tr>\n",
       "    <tr>\n",
       "      <th>2020</th>\n",
       "      <td>157</td>\n",
       "      <td>175</td>\n",
       "    </tr>\n",
       "    <tr>\n",
       "      <th>2021</th>\n",
       "      <td>160</td>\n",
       "      <td>180</td>\n",
       "    </tr>\n",
       "  </tbody>\n",
       "</table>\n",
       "</div>"
      ],
      "text/plain": [
       "       영희   철수\n",
       "2018  143  165\n",
       "2019  150  172\n",
       "2020  157  175\n",
       "2021  160  180"
      ]
     },
     "execution_count": 1,
     "metadata": {},
     "output_type": "execute_result"
    }
   ],
   "source": [
    "# 2차원 리스트 데이터로 프레임 만들기\n",
    "import pandas as pd\n",
    "\n",
    "data = [[143, 165], [150, 172], [157, 175], [160, 180]]\n",
    "index=[\"2018\", \"2019\", \"2020\", \"2021\"]\n",
    "\n",
    "growth = pd.DataFrame(data, columns=['영희', '철수'], index=index)\n",
    "growth"
   ]
  },
  {
   "cell_type": "code",
   "execution_count": 13,
   "id": "2c1a9fb5-77e9-4c6c-9168-4d1a70b59474",
   "metadata": {},
   "outputs": [
    {
     "name": "stdout",
     "output_type": "stream",
     "text": [
      "       영희   철수\n",
      "2018  143  165\n",
      "2019  150  172\n",
      "2020  157  175\n",
      "2021  160  180\n",
      "영희    157\n",
      "철수    175\n",
      "Name: 2020, dtype: int64\n",
      "영희    157\n",
      "철수    175\n",
      "Name: 2020, dtype: int64\n",
      "       영희   철수\n",
      "2020  157  175\n",
      "2021  160  180\n",
      "       영희   철수\n",
      "2020  157  175\n",
      "2021  160  180\n"
     ]
    }
   ],
   "source": [
    "# 일반적인 데이터프레임 만들기\n",
    "index=[\"2018\", \"2019\", \"2020\", \"2021\"]\n",
    "\n",
    "data = {\n",
    "    '영희': [143, 150, 157, 160],\n",
    "    '철수': [165, 172, 175, 180]\n",
    "}\n",
    "\n",
    "growth = pd.DataFrame(data, index=index)\n",
    "# print(growth)\n",
    "# print(growth.columns) #칼럼\n",
    "# print(growth.values)  #값\n",
    "\n",
    "# 열 선택\n",
    "# print(growth['철수'])\n",
    "\n",
    "# 열이름도 출력\n",
    "# print(growth[['철수']])\n",
    "print(growth[['영희', '철수']])\n",
    "\n",
    "# 행 선택\n",
    "# loc[행(문자)], iloc[행(숫자)]\n",
    "print(growth.loc['2020'])\n",
    "print(growth.iloc[2])\n",
    "\n",
    "# 다중 행 선택\n",
    "print(growth.loc[['2020', '2021']])\n",
    "print(growth.iloc[[2, 3]])"
   ]
  },
  {
   "cell_type": "code",
   "execution_count": 81,
   "id": "8720079d-de48-4098-ba3e-3edc3af8b87e",
   "metadata": {},
   "outputs": [
    {
     "name": "stdout",
     "output_type": "stream",
     "text": [
      "175\n",
      "175\n",
      "       영희   철수\n",
      "2018  143  165\n",
      "2019  150  172\n",
      "2020  157  175\n",
      "2021  160  180\n",
      "       영희   철수\n",
      "2018  143  165\n",
      "2020  157  175\n",
      "       영희   철수\n",
      "2018  143  165\n",
      "2019  150  172\n",
      "2020  157  175\n",
      "       영희   철수\n",
      "2021  160  180\n",
      "2020  157  175\n",
      "2019  150  172\n",
      "2018  143  165\n"
     ]
    }
   ],
   "source": [
    "index=[\"2018\", \"2019\", \"2020\", \"2021\"]\n",
    "\n",
    "data = {\n",
    "    '영희': [143, 150, 157, 160],\n",
    "    '철수': [165, 172, 175, 180]\n",
    "}\n",
    "\n",
    "growth = pd.DataFrame(data, index=index)\n",
    "# print(growth)\n",
    "\n",
    "# 특정 요소 1개 선택\n",
    "# loc[행(문자), 열(문자)], iloc[행(숫자), 열(숫자)]\n",
    "print(growth.loc['2020', '철수'])\n",
    "print(growth.iloc[2, 1])\n",
    "\n",
    "# 행, 열 전체 선택(범위연산자 - ':'), 3번째 값이 (step-간격)\n",
    "# iloc[a:b:c] - (a-시작인덱스, b- 끝인덱스, c- 간격), \n",
    "# a 생략되면 0이고, b가 생략되면 끝인덱스, c 생략은 1로 간주\n",
    "print(growth.iloc[0:5:1]) # 전체를 1행 간격으로 출력\n",
    "print(growth.iloc[::2]) # 전체를 2행 간격으로 출력\n",
    "print(growth.iloc[:3:]) # 2행까지 1행 간격으로 출력\n",
    "print(growth.iloc[::-1]) # 역순 실행"
   ]
  },
  {
   "cell_type": "code",
   "execution_count": 1,
   "id": "836967c7-087e-4ddf-a602-9c8fd1d34c5f",
   "metadata": {},
   "outputs": [
    {
     "name": "stdout",
     "output_type": "stream",
     "text": [
      "       영희   철수\n",
      "2018  143  165\n",
      "2019  150  172\n",
      "2020  157  175\n",
      "2021  160  180\n",
      "       영희   철수   시현\n",
      "2018  143  165  155\n",
      "2019  150  172  160\n",
      "2020  157  175  165\n",
      "2021  160  180  170\n",
      "       영희   철수   시현\n",
      "2018  143  165  155\n",
      "2019  150  172  160\n",
      "2020  157  175  165\n",
      "2021  160  180  170\n",
      "2022  162  181  172\n",
      "       영희   철수   시현\n",
      "2018  143  165  155\n",
      "2019  150  172  160\n",
      "2021  160  180  170\n",
      "2022  162  181  172\n",
      "       영희   시현\n",
      "2018  143  155\n",
      "2019  150  160\n",
      "2020  157  165\n",
      "2021  160  170\n",
      "2022  162  172\n"
     ]
    }
   ],
   "source": [
    "import pandas as pd\n",
    "\n",
    "index=[\"2018\", \"2019\", \"2020\", \"2021\"]\n",
    "\n",
    "data = {\n",
    "    '영희': [143, 150, 157, 160],\n",
    "    '철수': [165, 172, 175, 180]\n",
    "}\n",
    "\n",
    "growth = pd.DataFrame(data, index=index)\n",
    "print(growth)\n",
    "\n",
    "# 열 추가 - 시현\n",
    "growth['시현'] = [155, 160, 165, 170]\n",
    "print(growth)\n",
    "\n",
    "# 행 추가 - 2022년\n",
    "growth.loc['2022'] = [162, 181, 172]\n",
    "print(growth)\n",
    "\n",
    "# 행 삭제 - 2020년, drop() 매서드 사용\n",
    "# 복사 - 원본 유지 (깊은 복사 - 원본과 별도로 삭제, 수정) - copy()\n",
    "growth2 = growth.copy() \n",
    "growth2 = growth2.drop('2020', axis=0) #axis=0 생략 가능\n",
    "print(growth2)\n",
    "\n",
    "# 열 삭제 - '철수' 삭제\n",
    "growth3 = growth.copy()\n",
    "growth3 = growth3.drop('철수', axis=1)\n",
    "print(growth3)"
   ]
  },
  {
   "cell_type": "code",
   "execution_count": 27,
   "id": "a0bd9d5a-233e-4d6d-a9db-26fad056b5af",
   "metadata": {},
   "outputs": [
    {
     "name": "stdout",
     "output_type": "stream",
     "text": [
      "[1, 2, 3, 4] [1, 10, 3, 4]\n"
     ]
    }
   ],
   "source": [
    "# 얕은 복사와 깊은 복사\n",
    "# 얕은 복사 - 복사본을 수정하면 원본도 수정된다.\n",
    "# 깊은 복사 - 복사본을 수정해도 원본은 유지된다. copy()\n",
    "a = [1, 2, 3, 4]\n",
    "a\n",
    "b = a  # a리스트에 b에 저장함\n",
    "b\n",
    "b[1] = 10  #2-> 10으로 수정\n",
    "b\n",
    "# print(a, b)\n",
    "\n",
    "# 깊은 복사\n",
    "c = [1, 2, 3, 4]\n",
    "c\n",
    "d = c.copy()\n",
    "d\n",
    "d[1] = 10\n",
    "print(c, d)"
   ]
  },
  {
   "cell_type": "code",
   "execution_count": 89,
   "id": "3e1128d1-bceb-431e-a153-141e6410f0da",
   "metadata": {},
   "outputs": [
    {
     "name": "stdout",
     "output_type": "stream",
     "text": [
      "       영희   철수\n",
      "2018  143  165\n",
      "2019  150  172\n",
      "2020  157  177\n",
      "2021  160  180\n",
      "Index(['영희', '철수'], dtype='object')\n",
      "철수\n",
      "      younghee  cheolsu\n",
      "2018       143      165\n",
      "2019       150      172\n",
      "2020       157      177\n",
      "2021       160      180\n"
     ]
    }
   ],
   "source": [
    "# 요소 수정(변경)\n",
    "import pandas as pd\n",
    "\n",
    "index=[\"2018\", \"2019\", \"2020\", \"2021\"]\n",
    "\n",
    "data = {\n",
    "    '영희': [143, 150, 157, 160],\n",
    "    '철수': [165, 172, 175, 180]\n",
    "}\n",
    "\n",
    "growth = pd.DataFrame(data, index=index)\n",
    "# print(growth)\n",
    "\n",
    "# 2020년의 철수의 키 177로 변경\n",
    "# 요소 선택 - loc[행, 열]\n",
    "growth.loc['2020', '철수'] = 177\n",
    "print(growth)\n",
    "\n",
    "# 칼럼 이름 변경\n",
    "# '영희'를 'younghee'\n",
    "print(growth.columns)\n",
    "print(growth.columns[1])\n",
    "# 칼럼이름 변경 - rename(columns={변경전: 변경후}, inplace=True), inplace=True(즉시 실행)\n",
    "growth.rename(columns={'영희': 'younghee', '철수': 'cheolsu'}, inplace=True)\n",
    "print(growth)"
   ]
  },
  {
   "cell_type": "code",
   "execution_count": 3,
   "id": "f18d2802-8f99-4891-bd7b-861625b0fefa",
   "metadata": {},
   "outputs": [
    {
     "data": {
      "text/html": [
       "<div>\n",
       "<style scoped>\n",
       "    .dataframe tbody tr th:only-of-type {\n",
       "        vertical-align: middle;\n",
       "    }\n",
       "\n",
       "    .dataframe tbody tr th {\n",
       "        vertical-align: top;\n",
       "    }\n",
       "\n",
       "    .dataframe thead th {\n",
       "        text-align: right;\n",
       "    }\n",
       "</style>\n",
       "<table border=\"1\" class=\"dataframe\">\n",
       "  <thead>\n",
       "    <tr style=\"text-align: right;\">\n",
       "      <th></th>\n",
       "      <th>영희</th>\n",
       "      <th>철수</th>\n",
       "    </tr>\n",
       "  </thead>\n",
       "  <tbody>\n",
       "    <tr>\n",
       "      <th>2018</th>\n",
       "      <td>143</td>\n",
       "      <td>165</td>\n",
       "    </tr>\n",
       "    <tr>\n",
       "      <th>2019</th>\n",
       "      <td>150</td>\n",
       "      <td>172</td>\n",
       "    </tr>\n",
       "    <tr>\n",
       "      <th>2020</th>\n",
       "      <td>157</td>\n",
       "      <td>175</td>\n",
       "    </tr>\n",
       "    <tr>\n",
       "      <th>2021</th>\n",
       "      <td>160</td>\n",
       "      <td>180</td>\n",
       "    </tr>\n",
       "  </tbody>\n",
       "</table>\n",
       "</div>"
      ],
      "text/plain": [
       "       영희   철수\n",
       "2018  143  165\n",
       "2019  150  172\n",
       "2020  157  175\n",
       "2021  160  180"
      ]
     },
     "execution_count": 3,
     "metadata": {},
     "output_type": "execute_result"
    }
   ],
   "source": [
    "import pandas as pd\n",
    "\n",
    "index=[\"2018\", \"2019\", \"2020\", \"2021\"]\n",
    "\n",
    "data = {\n",
    "    '영희': [143, 150, 157, 160],\n",
    "    '철수': [165, 172, 175, 180]\n",
    "}\n",
    "\n",
    "growth = pd.DataFrame(data, index=index)\n",
    "growth\n",
    "# # csv 파일 쓰기\n",
    "# # growth.to_csv('./datas/growth.csv')\n",
    "\n",
    "# # csv 파일 읽기 - to_read_csv(경로)\n",
    "# growth = pd.read_csv('./datas/growth.csv', index_col=0)\n",
    "# print(growth)"
   ]
  },
  {
   "cell_type": "code",
   "execution_count": 9,
   "id": "fafb39aa-f82d-4baf-88a9-18d6268f26a8",
   "metadata": {},
   "outputs": [
    {
     "name": "stdout",
     "output_type": "stream",
     "text": [
      "       영희   철수\n",
      "연도            \n",
      "2018  143  165\n",
      "2019  150  172\n",
      "2020  157  175\n",
      "2021  160  180\n"
     ]
    }
   ],
   "source": [
    "import pandas as pd\n",
    "\n",
    "# 인덱스를 칼럼이름으로 설정하기\n",
    "data = {\n",
    "    '연도': [\"2018\", \"2019\", \"2020\", \"2021\"],\n",
    "    '영희': [143, 150, 157, 160],\n",
    "    '철수': [165, 172, 175, 180]\n",
    "}\n",
    "growth = pd.DataFrame(data)\n",
    "growth = growth.set_index('연도')\n",
    "print(growth)"
   ]
  },
  {
   "cell_type": "code",
   "execution_count": 56,
   "id": "077b77cd-65c2-43af-b23e-80b4ea3885db",
   "metadata": {},
   "outputs": [
    {
     "name": "stdout",
     "output_type": "stream",
     "text": [
      "    국어  수학   영어\n",
      "재천  90  80   85\n",
      "선영  80  75   95\n",
      "일성  70  95  100\n"
     ]
    }
   ],
   "source": [
    "# 실습 2. 데이터 프레임 만들기\n",
    "index = ['재천', '선영', '일성']\n",
    "\n",
    "score = {\n",
    "    '국어' : [90, 80, 70], \n",
    "    '수학' : [80, 75, 95],\n",
    "    '영어' : [85, 95, 100]\n",
    "}\n",
    "\n",
    "df = pd.DataFrame(score, index=index)\n",
    "print(df)"
   ]
  }
 ],
 "metadata": {
  "kernelspec": {
   "display_name": "Python 3 (ipykernel)",
   "language": "python",
   "name": "python3"
  },
  "language_info": {
   "codemirror_mode": {
    "name": "ipython",
    "version": 3
   },
   "file_extension": ".py",
   "mimetype": "text/x-python",
   "name": "python",
   "nbconvert_exporter": "python",
   "pygments_lexer": "ipython3",
   "version": "3.12.4"
  }
 },
 "nbformat": 4,
 "nbformat_minor": 5
}
