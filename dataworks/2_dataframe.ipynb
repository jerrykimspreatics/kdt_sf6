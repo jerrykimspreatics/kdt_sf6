{
 "cells": [
  {
   "cell_type": "markdown",
   "id": "86aa7f3b-7648-48ac-9123-b0608b5252d1",
   "metadata": {},
   "source": [
    "##### pandas - DataFrame 클래스 : 행(row)과 열(column)로 이루어진 2차원 리스트이다. "
   ]
  },
  {
   "cell_type": "code",
   "execution_count": 2,
   "id": "32886873-1a6a-4a1f-b2a4-7d642910c121",
   "metadata": {},
   "outputs": [
    {
     "data": {
      "text/html": [
       "<div>\n",
       "<style scoped>\n",
       "    .dataframe tbody tr th:only-of-type {\n",
       "        vertical-align: middle;\n",
       "    }\n",
       "\n",
       "    .dataframe tbody tr th {\n",
       "        vertical-align: top;\n",
       "    }\n",
       "\n",
       "    .dataframe thead th {\n",
       "        text-align: right;\n",
       "    }\n",
       "</style>\n",
       "<table border=\"1\" class=\"dataframe\">\n",
       "  <thead>\n",
       "    <tr style=\"text-align: right;\">\n",
       "      <th></th>\n",
       "      <th>영희</th>\n",
       "      <th>철수</th>\n",
       "    </tr>\n",
       "  </thead>\n",
       "  <tbody>\n",
       "    <tr>\n",
       "      <th>2018</th>\n",
       "      <td>143</td>\n",
       "      <td>165</td>\n",
       "    </tr>\n",
       "    <tr>\n",
       "      <th>2019</th>\n",
       "      <td>150</td>\n",
       "      <td>172</td>\n",
       "    </tr>\n",
       "    <tr>\n",
       "      <th>2020</th>\n",
       "      <td>157</td>\n",
       "      <td>175</td>\n",
       "    </tr>\n",
       "    <tr>\n",
       "      <th>2021</th>\n",
       "      <td>160</td>\n",
       "      <td>180</td>\n",
       "    </tr>\n",
       "  </tbody>\n",
       "</table>\n",
       "</div>"
      ],
      "text/plain": [
       "       영희   철수\n",
       "2018  143  165\n",
       "2019  150  172\n",
       "2020  157  175\n",
       "2021  160  180"
      ]
     },
     "execution_count": 2,
     "metadata": {},
     "output_type": "execute_result"
    }
   ],
   "source": [
    "import pandas as pd\n",
    "# 1. 시리즈 결합해서 데이터프레임 만들기\n",
    "index=[\"2018\", \"2019\", \"2020\", \"2021\"]\n",
    "\n",
    "younghee = pd.Series([143, 150, 157, 160], index=index)\n",
    "cheolsu = pd.Series([165, 172, 175, 180], index=index)\n",
    "\n",
    "growth = pd.DataFrame({\n",
    "    '영희': younghee,\n",
    "    '철수': cheolsu\n",
    "})\n",
    "growth"
   ]
  },
  {
   "cell_type": "code",
   "execution_count": 40,
   "id": "2c1a9fb5-77e9-4c6c-9168-4d1a70b59474",
   "metadata": {},
   "outputs": [
    {
     "name": "stdout",
     "output_type": "stream",
     "text": [
      "       영희   철수\n",
      "2018  143  165\n",
      "2019  150  172\n",
      "2020  157  175\n",
      "2021  160  180\n",
      "       영희   철수\n",
      "2018  143  165\n",
      "2019  150  172\n",
      "2020  157  175\n",
      "2021  160  180\n",
      "       영희   철수\n",
      "2020  157  175\n",
      "2021  160  180\n",
      "       영희   철수\n",
      "2020  157  175\n",
      "2021  160  180\n"
     ]
    }
   ],
   "source": [
    "# 일반적인 데이터프레임 만들기\n",
    "index=[\"2018\", \"2019\", \"2020\", \"2021\"]\n",
    "\n",
    "data = {\n",
    "    '영희': [143, 150, 157, 160],\n",
    "    '철수': [165, 172, 175, 180]\n",
    "}\n",
    "\n",
    "growth = pd.DataFrame(data, index=index)\n",
    "# print(growth)\n",
    "# print(growth.columns) #칼럼\n",
    "# print(growth.values)  #값\n",
    "\n",
    "# 열 선택\n",
    "# print(growth['철수'])\n",
    "print(growth[['영희', '철수']])\n",
    "# 열이름도 출력\n",
    "# print(growth[['철수']])\n",
    "# print(growth[['영희', '철수']])\n",
    "\n",
    "# 행 선택\n",
    "# loc[행(문자)], iloc[행(숫자)]\n",
    "# print(growth.loc['2020'])\n",
    "# print(growth.iloc[2])\n",
    "\n",
    "# 다중 행 선택\n",
    "print(growth.loc[['2020', '2021']])\n",
    "print(growth.iloc[[2, 3]])"
   ]
  },
  {
   "cell_type": "code",
   "execution_count": 86,
   "id": "8720079d-de48-4098-ba3e-3edc3af8b87e",
   "metadata": {},
   "outputs": [
    {
     "name": "stdout",
     "output_type": "stream",
     "text": [
      "       영희   철수\n",
      "2018  143  165\n",
      "2019  150  172\n",
      "2020  157  175\n",
      "2021  160  180\n",
      "175\n",
      "175\n"
     ]
    }
   ],
   "source": [
    "index=[\"2018\", \"2019\", \"2020\", \"2021\"]\n",
    "\n",
    "data = {\n",
    "    '영희': [143, 150, 157, 160],\n",
    "    '철수': [165, 172, 175, 180]\n",
    "}\n",
    "\n",
    "growth = pd.DataFrame(data, index=index)\n",
    "print(growth)\n",
    "\n",
    "# 특정 요소 1개 선택\n",
    "# loc[행(문자), 열(문자)], iloc[행(숫자), 열(숫자)]\n",
    "print(growth.loc['2020', '철수'])\n",
    "print(growth.iloc[2, 1])"
   ]
  },
  {
   "cell_type": "code",
   "execution_count": 126,
   "id": "836967c7-087e-4ddf-a602-9c8fd1d34c5f",
   "metadata": {},
   "outputs": [
    {
     "name": "stdout",
     "output_type": "stream",
     "text": [
      "       영희   철수\n",
      "2018  143  165\n",
      "2019  150  172\n",
      "2020  157  175\n",
      "2021  160  180\n",
      "2022  162  181\n",
      "       영희   철수\n",
      "2018  143  165\n",
      "2019  150  172\n",
      "2021  160  180\n",
      "2022  162  181\n"
     ]
    }
   ],
   "source": [
    "index=[\"2018\", \"2019\", \"2020\", \"2021\"]\n",
    "\n",
    "data = {\n",
    "    '영희': [143, 150, 157, 160],\n",
    "    '철수': [165, 172, 175, 180]\n",
    "}\n",
    "\n",
    "growth = pd.DataFrame(data, index=index)\n",
    "# print(growth)\n",
    "\n",
    "# 행 추가 - 2022년\n",
    "growth.loc['2022'] = [162, 181]\n",
    "print(growth)\n",
    "\n",
    "# 행 삭제 - 2020년\n",
    "# 복사 - 원본 유지 (깊은 복사 - 원본과 별도로 삭제, 수정) - copy()\n",
    "growth2 = growth.copy() \n",
    "growth2 = growth.drop('2020') #행 삭제\n",
    "print(growth2)"
   ]
  },
  {
   "cell_type": "code",
   "execution_count": 134,
   "id": "f18d2802-8f99-4891-bd7b-861625b0fefa",
   "metadata": {},
   "outputs": [
    {
     "name": "stdout",
     "output_type": "stream",
     "text": [
      "       영희   철수\n",
      "2018  143  165\n",
      "2019  150  172\n",
      "2020  157  175\n",
      "2021  160  180\n"
     ]
    }
   ],
   "source": [
    "\n",
    "import pandas as pd\n",
    "\n",
    "index=[\"2018\", \"2019\", \"2020\", \"2021\"]\n",
    "\n",
    "data = {\n",
    "    '영희': [143, 150, 157, 160],\n",
    "    '철수': [165, 172, 175, 180]\n",
    "}\n",
    "\n",
    "growth = pd.DataFrame(data, index=index)\n",
    "# csv 파일 쓰기\n",
    "# growth.to_csv('./datas/growth.csv')\n",
    "\n",
    "# csv 파일 읽기 - to_read_csv(경로)\n",
    "growth = pd.read_csv('./datas/growth.csv', index_col=0)\n",
    "print(growth)"
   ]
  },
  {
   "cell_type": "code",
   "execution_count": 56,
   "id": "077b77cd-65c2-43af-b23e-80b4ea3885db",
   "metadata": {},
   "outputs": [
    {
     "name": "stdout",
     "output_type": "stream",
     "text": [
      "    국어  수학   영어\n",
      "재천  90  80   85\n",
      "선영  80  75   95\n",
      "일성  70  95  100\n"
     ]
    }
   ],
   "source": [
    "# 실습 2. 데이터 프레임 만들기\n",
    "index = ['재천', '선영', '일성']\n",
    "\n",
    "score = {\n",
    "    '국어' : [90, 80, 70], \n",
    "    '수학' : [80, 75, 95],\n",
    "    '영어' : [85, 95, 100]\n",
    "}\n",
    "\n",
    "df = pd.DataFrame(score, index=index)\n",
    "print(df)"
   ]
  }
 ],
 "metadata": {
  "kernelspec": {
   "display_name": "Python 3 (ipykernel)",
   "language": "python",
   "name": "python3"
  },
  "language_info": {
   "codemirror_mode": {
    "name": "ipython",
    "version": 3
   },
   "file_extension": ".py",
   "mimetype": "text/x-python",
   "name": "python",
   "nbconvert_exporter": "python",
   "pygments_lexer": "ipython3",
   "version": "3.12.4"
  }
 },
 "nbformat": 4,
 "nbformat_minor": 5
}
