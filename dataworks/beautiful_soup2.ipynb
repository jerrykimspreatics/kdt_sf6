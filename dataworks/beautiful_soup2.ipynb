{
 "cells": [
  {
   "cell_type": "code",
   "execution_count": 8,
   "metadata": {},
   "outputs": [
    {
     "name": "stdout",
     "output_type": "stream",
     "text": [
      "<ul class=\"industry\">\n",
      "<li>인공지능</li>\n",
      "<li>빅데이터</li>\n",
      "<li>스마트팩토리</li>\n",
      "</ul>\n",
      "\n",
      "인공지능\n",
      "빅데이터\n",
      "스마트팩토리\n",
      "\n",
      "[<li>인공지능</li>, <li>빅데이터</li>, <li>스마트팩토리</li>]\n",
      "빅데이터\n"
     ]
    }
   ],
   "source": [
    "# BeautifulSoup 사용 - pip install BeautifulSoup4\n",
    "from bs4 import BeautifulSoup\n",
    "\n",
    "html_str = '''\n",
    "<html>\n",
    "  <body>\n",
    "    <div id=\"content\">\n",
    "      <ul class=\"industry\">\n",
    "        <li>인공지능</li>\n",
    "        <li>빅데이터</li>\n",
    "        <li>스마트팩토리</li>\n",
    "      </ul>\n",
    "      <ul class=\"comlang\">\n",
    "        <li>Python</li>\n",
    "        <li>C++</li>\n",
    "        <li>Java</li>\n",
    "      </ul>\n",
    "    </div>\n",
    "  </body>\n",
    "</html>\n",
    "'''\n",
    "# BeautifulSoup(html텍스트, 'html.parser')\n",
    "soup = BeautifulSoup(html_str, \"html.parser\")\n",
    "\n",
    "# 1개 찾기 - select_one(\"태그이름.선택자이름\"), 여러개 - select()\n",
    "first_ul = soup.select_one(\"ul.industry\")\n",
    "print(first_ul)\n",
    "print(first_ul.text)\n",
    "\n",
    "# 하위선택자 - 공백문자, 자식 선택자 - >\n",
    "lis = first_ul.select('li')\n",
    "print(lis)\n",
    "print(lis[1].text)\n",
    "\n"
   ]
  }
 ],
 "metadata": {
  "kernelspec": {
   "display_name": "base",
   "language": "python",
   "name": "python3"
  },
  "language_info": {
   "codemirror_mode": {
    "name": "ipython",
    "version": 3
   },
   "file_extension": ".py",
   "mimetype": "text/x-python",
   "name": "python",
   "nbconvert_exporter": "python",
   "pygments_lexer": "ipython3",
   "version": "3.12.4"
  }
 },
 "nbformat": 4,
 "nbformat_minor": 2
}
