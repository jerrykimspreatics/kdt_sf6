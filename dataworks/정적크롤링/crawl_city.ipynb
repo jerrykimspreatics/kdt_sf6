{
 "cells": [
  {
   "cell_type": "code",
   "execution_count": 15,
   "metadata": {},
   "outputs": [
    {
     "name": "stdout",
     "output_type": "stream",
     "text": [
      "\n",
      "공공서비스예약\n",
      "\n",
      "\n",
      "서울일자리\n",
      "\n",
      "\n",
      "시의회\n",
      "\n"
     ]
    }
   ],
   "source": [
    "import requests\n",
    "from bs4 import BeautifulSoup\n",
    "\n",
    "url = \"https://www.seoul.go.kr/main/index.jsp\"\n",
    "response = requests.get(url)\n",
    "# print(response.text)\n",
    "\n",
    "soup = BeautifulSoup(response.text, 'html.parser')\n",
    "# print(soup)\n",
    "first_li = soup.select_one(\"li.public\")\n",
    "# print(first_li)\n",
    "print(first_li.text)\n",
    "\n",
    "lis = soup.select(\"div.m_service > ul > li\")\n",
    "# print(lis)\n",
    "\n",
    "# for li in lis:\n",
    "#   print(li.text)\n",
    "\n",
    "# 인덱싱\n",
    "print(lis[2].text)\n",
    "print(lis[-1].text)"
   ]
  },
  {
   "cell_type": "code",
   "execution_count": null,
   "metadata": {},
   "outputs": [],
   "source": []
  }
 ],
 "metadata": {
  "kernelspec": {
   "display_name": "base",
   "language": "python",
   "name": "python3"
  },
  "language_info": {
   "codemirror_mode": {
    "name": "ipython",
    "version": 3
   },
   "file_extension": ".py",
   "mimetype": "text/x-python",
   "name": "python",
   "nbconvert_exporter": "python",
   "pygments_lexer": "ipython3",
   "version": "3.12.4"
  }
 },
 "nbformat": 4,
 "nbformat_minor": 2
}
