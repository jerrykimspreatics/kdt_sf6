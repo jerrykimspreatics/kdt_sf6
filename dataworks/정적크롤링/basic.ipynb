{
 "cells": [
  {
   "cell_type": "code",
   "execution_count": 1,
   "metadata": {},
   "outputs": [
    {
     "name": "stdout",
     "output_type": "stream",
     "text": [
      "hello\n"
     ]
    }
   ],
   "source": [
    "print(\"hello\")"
   ]
  },
  {
   "cell_type": "markdown",
   "metadata": {},
   "source": [
    "##### 변수의 선언과 활용\n",
    "##### 자료형과 연산"
   ]
  },
  {
   "cell_type": "code",
   "execution_count": 4,
   "metadata": {},
   "outputs": [
    {
     "name": "stdout",
     "output_type": "stream",
     "text": [
      "행운을 빌어요\n",
      "apple\n"
     ]
    }
   ],
   "source": [
    "msg = \"행운을 빌어요\"\n",
    "print(msg)\n",
    "\n",
    "cart = \"apple\"\n",
    "print(cart)"
   ]
  },
  {
   "cell_type": "code",
   "execution_count": 10,
   "metadata": {},
   "outputs": [
    {
     "name": "stdout",
     "output_type": "stream",
     "text": [
      "True\n",
      "False\n",
      "쌀\n",
      "커피\n",
      "두부\n",
      "콩나물\n",
      "['쌀', '커피', '두부']\n"
     ]
    }
   ],
   "source": [
    "carts = ['쌀', '커피', '두부', '콩나물']\n",
    "\n",
    "print('커피' in carts)\n",
    "print('마늘' in carts)\n",
    "\n",
    "for cart in carts:\n",
    "  print(cart)\n",
    "\n",
    "print(carts[:3])  # 0 ~ 2번 인덱스"
   ]
  },
  {
   "cell_type": "markdown",
   "metadata": {},
   "source": [
    "### 모듈 사용하기"
   ]
  },
  {
   "cell_type": "code",
   "execution_count": 22,
   "metadata": {},
   "outputs": [
    {
     "name": "stdout",
     "output_type": "stream",
     "text": [
      "13\n",
      "12\n",
      "0.5633336149573144\n",
      "9\n",
      "5\n",
      "2\n",
      "4\n",
      "2\n",
      "5\n",
      "4\n",
      "5\n",
      "4\n",
      "3\n",
      "3\n"
     ]
    }
   ],
   "source": [
    "import math\n",
    "import random\n",
    "\n",
    "v1 = math.ceil(12.56)\n",
    "print(v1)\n",
    "\n",
    "v2 = math.floor(12.56)\n",
    "print(v2)\n",
    "\n",
    "v3 = random.random()  # 0.0 <= v3 < 1.0\n",
    "print(v3)\n",
    "\n",
    "v4 = random.randint(1, 10) # 1 ~ 10 무작위수\n",
    "print(v4)\n",
    "\n",
    "# 주사위 10번 던지기\n",
    "for i in range(10):\n",
    "  dice = random.randint(1, 6) #주사위 생성\n",
    "  print(dice)"
   ]
  },
  {
   "cell_type": "code",
   "execution_count": 6,
   "metadata": {},
   "outputs": [
    {
     "name": "stdout",
     "output_type": "stream",
     "text": [
      "5\n",
      "5\n"
     ]
    }
   ],
   "source": [
    "# 절대값 함수\n",
    "def myabs(x):\n",
    "  if x < 0:\n",
    "    return -x\n",
    "  else:\n",
    "    return x\n",
    "\n",
    "print(myabs(-5))\n",
    "print(myabs(5))\n",
    "\n",
    "# print(abs(-5))\n",
    "# print(abs(5))"
   ]
  }
 ],
 "metadata": {
  "kernelspec": {
   "display_name": "base",
   "language": "python",
   "name": "python3"
  },
  "language_info": {
   "codemirror_mode": {
    "name": "ipython",
    "version": 3
   },
   "file_extension": ".py",
   "mimetype": "text/x-python",
   "name": "python",
   "nbconvert_exporter": "python",
   "pygments_lexer": "ipython3",
   "version": "3.12.4"
  }
 },
 "nbformat": 4,
 "nbformat_minor": 2
}
