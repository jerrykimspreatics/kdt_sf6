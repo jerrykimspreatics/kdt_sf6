{
 "cells": [
  {
   "cell_type": "code",
   "execution_count": 16,
   "metadata": {},
   "outputs": [
    {
     "name": "stdout",
     "output_type": "stream",
     "text": [
      "[<h4 class=\"headline-title\">백중사리에 인천 소래포구 침수 우려…“내일 새벽 최고 수위”</h4>]\n",
      "백중사리에 인천 소래포구 침수 우려…“내일 새벽 최고 수위”\n",
      "밀물 수위가 가장 높아지는 ‘백중사리 대조기’를 맞아 인천 저지대 해안가에서 침수 피해 우려가 나오고 있습니다. 국립해양조사원은 올 한 해 밀물 수위가 가장 높아지는 백중사리 대조기 기간이 어제(20일)부터 23일까지 나흘간 이어질 거라고 밝혔습니다. 백중사리 대조기는 백중인 음력 7월 15일을 사나흘 전후해 밀물과 썰물에 따른 바닷물 높이가 가장 크게 벌어지는 기간입니다  오늘(21일) 오전 5시 51분쯤 인천의 조위는 960cm로 경계 단계까지 높아졌습니다. 이후 점차 조위가 낮아졌지만, 오늘 오후 6시 8분쯤에는 관심 단계인 900cm로, 내일(22일) 오전 6시 29분쯤에는 최고수위인 967cm까지 다시 상승할 거로 관측됩니다. 해양수산부는 저지대 해안가인 인천시 남동구 소래포구와 중구 인천수협 일대에서 침수 피해가 발생할 수 있다고 보고 주의를 당부했습니다. 인천 남동구 관계자는 “침수 피해 우려가 있어 내일 새벽에는 소래포구 해안가 주변에 접근하지 못하도록 통제 조치할 예정”이라고 말했습니다.[사진 출처 : 연합뉴스]\n"
     ]
    }
   ],
   "source": [
    "import requests\n",
    "from bs4 import BeautifulSoup\n",
    "\n",
    "url = \"https://news.kbs.co.kr/news/pc/view/view.do?ncd=8040239\"\n",
    "response = requests.get(url)\n",
    "# print(response)\n",
    "# print(response.text)\n",
    "\n",
    "soup = BeautifulSoup(response.text, \"html.parser\")\n",
    "# print(soup)\n",
    "\n",
    "# 헤드라인 뉴스 제목 크롤링\n",
    "title = soup.find('h4', attrs={'class': 'headline-title'})\n",
    "# title = soup.select(\"h4.headline-title\")  #태그이름.클래스이름\n",
    "# print(title)\n",
    "print(title[0].text)\n",
    "\n",
    "# 기사 본문 내용 크롤링\n",
    "# body = soup.find('div', class_=\"detail-body font-size\")\n",
    "body = soup.select_one(\"div.detail-body\")\n",
    "print(body.text.strip())"
   ]
  },
  {
   "cell_type": "code",
   "execution_count": null,
   "metadata": {},
   "outputs": [],
   "source": []
  }
 ],
 "metadata": {
  "kernelspec": {
   "display_name": "base",
   "language": "python",
   "name": "python3"
  },
  "language_info": {
   "codemirror_mode": {
    "name": "ipython",
    "version": 3
   },
   "file_extension": ".py",
   "mimetype": "text/x-python",
   "name": "python",
   "nbconvert_exporter": "python",
   "pygments_lexer": "ipython3",
   "version": "3.12.4"
  }
 },
 "nbformat": 4,
 "nbformat_minor": 2
}
