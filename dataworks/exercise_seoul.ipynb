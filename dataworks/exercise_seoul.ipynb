{
 "cells": [
  {
   "cell_type": "code",
   "execution_count": 1,
   "id": "6304e9c5-33a5-4ea8-980b-81c3f332be71",
   "metadata": {},
   "outputs": [
    {
     "name": "stdout",
     "output_type": "stream",
     "text": [
      "      대분류            분류  운동을 할 충분한 시간이 없어서  함께 운동을 할 사람이 없어서  \\\n",
      "0     서울시            소계               46.8               5.0   \n",
      "1      성별            남자               52.4               4.4   \n",
      "2     NaN            여자               42.5               5.6   \n",
      "3     연령별           10대               55.3               4.8   \n",
      "4     NaN           20대               46.0               4.2   \n",
      "5     NaN           30대               59.9               5.2   \n",
      "6     NaN           40대               54.1               3.9   \n",
      "7     NaN           50대               46.1               6.2   \n",
      "8     NaN        60대 이상               26.6               6.0   \n",
      "9     학력별         중졸 이하               24.7               6.2   \n",
      "10    NaN         고졸 이하               44.3               5.3   \n",
      "11    NaN         대졸 이하               53.1               4.7   \n",
      "12    NaN        대학원 이상               61.2               3.0   \n",
      "13    소득별      100만원 미만               10.7               8.4   \n",
      "14    NaN  100-200만원 미만               29.6               5.6   \n",
      "15    NaN  200-300만원 미만               42.8               7.3   \n",
      "16    NaN  300-400만원 미만               50.6               4.3   \n",
      "17    NaN  400-500만원 미만               48.0               4.6   \n",
      "18    NaN      500만원 이상               52.8               4.3   \n",
      "19  혼인상태별            기혼               48.7               4.5   \n",
      "20    NaN            미혼               50.2               4.9   \n",
      "21    NaN      이혼/사별/기타               31.5               7.2   \n",
      "\n",
      "    운동을 할 만한 장소가 없어서  운동을 싫어해서  운동을 할 충분한 비용이 없어서    기타  \n",
      "0                4.3      37.3                5.2   1.4  \n",
      "1                4.9      32.4                4.9   1.1  \n",
      "2                3.9      41.0                5.4   1.7  \n",
      "3                3.9      32.6                3.5     -  \n",
      "4                4.5      38.8                6.4   0.1  \n",
      "5                2.9      27.3                4.5   0.2  \n",
      "6                2.9      35.5                3.3   0.4  \n",
      "7                4.5      36.8                5.6   0.8  \n",
      "8                6.6      48.7                6.6   5.6  \n",
      "9                4.8      48.6                7.3   8.5  \n",
      "10               5.6      38.6                5.5   0.7  \n",
      "11               3.3      34.0                4.6   0.3  \n",
      "12               5.6      29.0                0.9   0.3  \n",
      "13               9.9      50.7                9.4  10.9  \n",
      "14               6.0      49.1                7.4   2.3  \n",
      "15               3.9      39.5                5.1   1.4  \n",
      "16               4.2      35.5                4.8   0.7  \n",
      "17               3.3      38.7                5.3   0.2  \n",
      "18               4.0      33.4                4.5     1  \n",
      "19               4.1      37.3                4.6   0.7  \n",
      "20               4.0      35.1                5.6   0.2  \n",
      "21               5.7      42.4                6.4   6.9  \n"
     ]
    }
   ],
   "source": [
    "import pandas as pd\n",
    "import warnings\n",
    "warnings.simplefilter('ignore')\n",
    "\n",
    "# execl 파일 불러오기 - read_excel(경로), 제목행 1행부터 읽기\n",
    "not_exercise = pd.read_excel(\"./datas/exercise_seoul.xlsx\", header=1)\n",
    "not_exercise\n",
    "\n",
    "not_exercise.columns\n",
    "# '시점' 열 삭제 - drop()\n",
    "not_exercise.drop(columns='시점', inplace=True)\n",
    "# print(not_exercise)\n",
    "\n",
    "# 칼럼 이름 변경(rename()) - 구분별(1)->대분류, 구분별(2)->분류\n",
    "not_exercise.rename(columns={'구분별(1)':'대분류', '구분별(2)':'분류'}, inplace=True)\n",
    "# print(not_exercise)\n",
    "\n",
    "# 22행 ~ 51행까지 삭제\n",
    "# not_exercise.drop(index=range(22, 52), inplace=True)\n",
    "not_exercise = not_exercise.drop(index=range(22, 52), axis=0)\n",
    "print(not_exercise)"
   ]
  },
  {
   "cell_type": "code",
   "execution_count": 57,
   "id": "eb91c398-eef7-4348-aa31-0671a5edea72",
   "metadata": {},
   "outputs": [
    {
     "data": {
      "text/html": [
       "<div>\n",
       "<style scoped>\n",
       "    .dataframe tbody tr th:only-of-type {\n",
       "        vertical-align: middle;\n",
       "    }\n",
       "\n",
       "    .dataframe tbody tr th {\n",
       "        vertical-align: top;\n",
       "    }\n",
       "\n",
       "    .dataframe thead th {\n",
       "        text-align: right;\n",
       "    }\n",
       "</style>\n",
       "<table border=\"1\" class=\"dataframe\">\n",
       "  <thead>\n",
       "    <tr style=\"text-align: right;\">\n",
       "      <th></th>\n",
       "      <th>운동을 할 충분한 시간이 없어서</th>\n",
       "      <th>함께 운동을 할 사람이 없어서</th>\n",
       "      <th>운동을 할 만한 장소가 없어서</th>\n",
       "      <th>운동을 싫어해서</th>\n",
       "      <th>운동을 할 충분한 비용이 없어서</th>\n",
       "      <th>기타</th>\n",
       "    </tr>\n",
       "    <tr>\n",
       "      <th>분류</th>\n",
       "      <th></th>\n",
       "      <th></th>\n",
       "      <th></th>\n",
       "      <th></th>\n",
       "      <th></th>\n",
       "      <th></th>\n",
       "    </tr>\n",
       "  </thead>\n",
       "  <tbody>\n",
       "    <tr>\n",
       "      <th>남자</th>\n",
       "      <td>52.4</td>\n",
       "      <td>4.4</td>\n",
       "      <td>4.9</td>\n",
       "      <td>32.4</td>\n",
       "      <td>4.9</td>\n",
       "      <td>1.1</td>\n",
       "    </tr>\n",
       "    <tr>\n",
       "      <th>여자</th>\n",
       "      <td>42.5</td>\n",
       "      <td>5.6</td>\n",
       "      <td>3.9</td>\n",
       "      <td>41.0</td>\n",
       "      <td>5.4</td>\n",
       "      <td>1.7</td>\n",
       "    </tr>\n",
       "  </tbody>\n",
       "</table>\n",
       "</div>"
      ],
      "text/plain": [
       "    운동을 할 충분한 시간이 없어서  함께 운동을 할 사람이 없어서  운동을 할 만한 장소가 없어서  운동을 싫어해서  \\\n",
       "분류                                                                    \n",
       "남자               52.4               4.4               4.9      32.4   \n",
       "여자               42.5               5.6               3.9      41.0   \n",
       "\n",
       "    운동을 할 충분한 비용이 없어서   기타  \n",
       "분류                          \n",
       "남자                4.9  1.1  \n",
       "여자                5.4  1.7  "
      ]
     },
     "execution_count": 57,
     "metadata": {},
     "output_type": "execute_result"
    }
   ],
   "source": [
    "not_exercise.loc[2, '대분류'] = '성별'\n",
    "# print(not_exercise)\n",
    "\n",
    "# 성별 데이터만 선택\n",
    "not_exercise[not_exercise['대분류'] == \"성별\"]\n",
    "\n",
    "# 원본 유지하고 복사\n",
    "not_ex_gender = not_exercise[not_exercise['대분류'] == \"성별\"].copy()\n",
    "not_ex_gender\n",
    "\n",
    "# 대분류 칼럼 삭제\n",
    "# not_ex_gender.drop(columns='대분류', inplace=True)\n",
    "not_ex_gender = not_ex_gender.drop(columns='대분류', axis=1)\n",
    "not_ex_gender\n",
    "\n",
    "# 인덱스를 '분류'로 설정\n",
    "not_ex_gender.set_index('분류', inplace=True)\n",
    "not_ex_gender"
   ]
  },
  {
   "cell_type": "code",
   "execution_count": 81,
   "id": "00873a4a-85df-4c71-b215-1847e4fd10cc",
   "metadata": {},
   "outputs": [
    {
     "data": {
      "text/plain": [
       "Text(0, 0.5, '')"
      ]
     },
     "execution_count": 81,
     "metadata": {},
     "output_type": "execute_result"
    },
    {
     "data": {
      "image/png": "[encoded data removed]",
      "text/plain": [
       "<Figure size 640x480 with 2 Axes>"
      ]
     },
     "metadata": {},
     "output_type": "display_data"
    }
   ],
   "source": [
    "import matplotlib.pyplot as plt\n",
    "\n",
    "# fig(figure- 그래프를 그릴공간), ax(axis-그 공간중 내가 사용할 부분)\n",
    "fig, ax = plt.subplots(1, 2)  # subplots() - 작은 그래프(1행 2열)\n",
    "explode = [0.02, 0.02]  #파이 간 간격\n",
    "plt.rc('font', family='Malgun Gothic')\n",
    "\n",
    "not_ex_gender['운동을 할 충분한 시간이 없어서'].plot.pie(ax=ax[0], \n",
    "                autopct='%.1f%%', startangle=90, explode=explode)\n",
    "ax[0].set_title('운동을 할 충분한 시간이 없어서')\n",
    "ax[0].set_ylabel('')\n",
    "\n",
    "not_ex_gender['함께 운동을 할 사람이 없어서'].plot.pie(ax=ax[1], \n",
    "                autopct='%.1f%%', startangle=90, explode=explode)\n",
    "ax[1].set_title('함께 운동을 할 사람이 없어서')\n",
    "ax[1].set_ylabel('')"
   ]
  }
 ],
 "metadata": {
  "kernelspec": {
   "display_name": "Python 3 (ipykernel)",
   "language": "python",
   "name": "python3"
  },
  "language_info": {
   "codemirror_mode": {
    "name": "ipython",
    "version": 3
   },
   "file_extension": ".py",
   "mimetype": "text/x-python",
   "name": "python",
   "nbconvert_exporter": "python",
   "pygments_lexer": "ipython3",
   "version": "3.12.4"
  }
 },
 "nbformat": 4,
 "nbformat_minor": 5
}
