{
 "cells": [
  {
   "cell_type": "code",
   "execution_count": 6,
   "metadata": {},
   "outputs": [],
   "source": [
    "from selenium import webdriver\n",
    "from selenium.webdriver.chrome.options import Options\n",
    "from selenium.webdriver.common.by import By\n",
    "from selenium.webdriver.common.keys import Keys\n",
    "import time\n",
    "\n",
    "# 브라우저 창 최대화 - Options 클래스의 객체 생성\n",
    "options = Options()\n",
    "options.add_argument(\"--start-maximized\")\n",
    "\n",
    "driver = webdriver.Chrome(options=options)\n",
    "\n",
    "url = \"https://www.naver.com/\"\n",
    "\n",
    "driver.get(url)\n",
    "\n",
    "# 검색어 - '딥페이크'로 검색하기\n",
    "# 검색어 입력 - id 선택자 -> By클래스 - send_keys()\n",
    "query = driver.find_element(By.ID, \"query\")\n",
    "query.send_keys(\"딥페이크 지도\")\n",
    "time.sleep(2)\n",
    "\n",
    "# 검색 버튼 클릭 - click()\n",
    "# search_btn = driver.find_element(By.ID, \"search-btn\")\n",
    "# class 선택자 - 점(.) 찍고 사용, id 선택자 - 샾(#)을 쓰고 사용\n",
    "# search_btn = driver.find_element(By.CSS_SELECTOR, \"#search-btn\")\n",
    "# search_btn.click()\n",
    "\n",
    "# 검색 엔터 치기(Keys 클래스 사용) - 입력창에서 엔터 친다.\n",
    "driver.find_element(By.ID, \"query\").send_keys(Keys.ENTER)\n"
   ]
  }
 ],
 "metadata": {
  "kernelspec": {
   "display_name": "base",
   "language": "python",
   "name": "python3"
  },
  "language_info": {
   "codemirror_mode": {
    "name": "ipython",
    "version": 3
   },
   "file_extension": ".py",
   "mimetype": "text/x-python",
   "name": "python",
   "nbconvert_exporter": "python",
   "pygments_lexer": "ipython3",
   "version": "3.12.4"
  }
 },
 "nbformat": 4,
 "nbformat_minor": 2
}
