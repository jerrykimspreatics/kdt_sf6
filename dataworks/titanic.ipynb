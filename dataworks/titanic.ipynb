{
 "cells": [
  {
   "cell_type": "code",
   "execution_count": 11,
   "id": "49ca3e75-7eac-4405-8f2a-024169847c56",
   "metadata": {},
   "outputs": [
    {
     "name": "stdout",
     "output_type": "stream",
     "text": [
      "<class 'pandas.core.frame.DataFrame'>\n",
      "RangeIndex: 891 entries, 0 to 890\n",
      "Data columns (total 15 columns):\n",
      " #   Column       Non-Null Count  Dtype   \n",
      "---  ------       --------------  -----   \n",
      " 0   survived     891 non-null    int64   \n",
      " 1   pclass       891 non-null    int64   \n",
      " 2   sex          891 non-null    object  \n",
      " 3   age          714 non-null    float64 \n",
      " 4   sibsp        891 non-null    int64   \n",
      " 5   parch        891 non-null    int64   \n",
      " 6   fare         891 non-null    float64 \n",
      " 7   embarked     889 non-null    object  \n",
      " 8   class        891 non-null    category\n",
      " 9   who          891 non-null    object  \n",
      " 10  adult_male   891 non-null    bool    \n",
      " 11  deck         203 non-null    category\n",
      " 12  embark_town  889 non-null    object  \n",
      " 13  alive        891 non-null    object  \n",
      " 14  alone        891 non-null    bool    \n",
      "dtypes: bool(2), category(2), float64(2), int64(4), object(5)\n",
      "memory usage: 80.7+ KB\n"
     ]
    }
   ],
   "source": [
    "import seaborn as sns\n",
    "\n",
    "# titanic 데이터셋 가져오기\n",
    "df = sns.load_dataset('titanic')\n",
    "df\n",
    "\n",
    "df.head()\n",
    "\n",
    "df.info()"
   ]
  },
  {
   "cell_type": "code",
   "execution_count": 39,
   "id": "49459f31-71d1-401d-995a-2a05d369e7a3",
   "metadata": {},
   "outputs": [
    {
     "data": {
      "text/plain": [
       "0    22.0\n",
       "1    38.0\n",
       "2    26.0\n",
       "3    35.0\n",
       "4    35.0\n",
       "5     NaN\n",
       "6    54.0\n",
       "7     2.0\n",
       "8    27.0\n",
       "9    14.0\n",
       "Name: age, dtype: float64"
      ]
     },
     "execution_count": 39,
     "metadata": {},
     "output_type": "execute_result"
    }
   ],
   "source": [
    "# 누락 데이터 확인 - isnull()-True(누락), False(누락안됨), notnull()\n",
    "df.head().isnull()\n",
    "\n",
    "# 누락 데이터 총 개수 계산\n",
    "df.head().isnull().sum()\n",
    "df.isnull().sum()\n",
    "\n",
    "# value_counts() \n",
    "df['deck'].value_counts(dropna=False)\n",
    "\n",
    "df['age'].value_counts(dropna=False)\n",
    "\n",
    "# age 행의 누락데이터 확인\n",
    "df['age'].head(10)"
   ]
  },
  {
   "cell_type": "code",
   "execution_count": 53,
   "id": "f50e08f6-d552-45ea-a155-5b2224c9326a",
   "metadata": {},
   "outputs": [
    {
     "name": "stdout",
     "output_type": "stream",
     "text": [
      "Index(['survived', 'pclass', 'sex', 'age', 'sibsp', 'parch', 'fare',\n",
      "       'embarked', 'class', 'who', 'adult_male', 'embark_town', 'alive',\n",
      "       'alone'],\n",
      "      dtype='object')\n",
      "714\n",
      "    survived  pclass     sex   age  sibsp  parch     fare embarked   class  \\\n",
      "0          0       3    male  22.0      1      0   7.2500        S   Third   \n",
      "1          1       1  female  38.0      1      0  71.2833        C   First   \n",
      "2          1       3  female  26.0      0      0   7.9250        S   Third   \n",
      "3          1       1  female  35.0      1      0  53.1000        S   First   \n",
      "4          0       3    male  35.0      0      0   8.0500        S   Third   \n",
      "6          0       1    male  54.0      0      0  51.8625        S   First   \n",
      "7          0       3    male   2.0      3      1  21.0750        S   Third   \n",
      "8          1       3  female  27.0      0      2  11.1333        S   Third   \n",
      "9          1       2  female  14.0      1      0  30.0708        C  Second   \n",
      "10         1       3  female   4.0      1      1  16.7000        S   Third   \n",
      "\n",
      "      who  adult_male deck  embark_town alive  alone  \n",
      "0     man        True  NaN  Southampton    no  False  \n",
      "1   woman       False    C    Cherbourg   yes  False  \n",
      "2   woman       False  NaN  Southampton   yes   True  \n",
      "3   woman       False    C  Southampton   yes  False  \n",
      "4     man        True  NaN  Southampton    no   True  \n",
      "6     man        True    E  Southampton    no   True  \n",
      "7   child       False  NaN  Southampton    no  False  \n",
      "8   woman       False  NaN  Southampton   yes  False  \n",
      "9   child       False  NaN    Cherbourg   yes  False  \n",
      "10  child       False    G  Southampton   yes  False  \n"
     ]
    }
   ],
   "source": [
    "# 누락 데이터 삭제 - dropna() 메서드 사용, Nan값이 500개 이상인 열 삭제\n",
    "# 'deck'열 삭제 - thresh = 500지정, axis=1\n",
    "df_thresh = df.dropna(axis=1, thresh=500)\n",
    "# 삭제후 남아 있는 칼럼\n",
    "print(df_thresh.columns)\n",
    "\n",
    "# age열에 데이터가 없는 모든 행 삭제\n",
    "# subset을 'age'열로 한정하면 'age'열의 행 중에서 NaN값이 있는 모든 행 삭제\n",
    "df_age = df.dropna(subset=['age'], how='any', axis=0)\n",
    "# 삭제후 행의 개수\n",
    "print(len(df_age))\n",
    "print(df_age.head(10))"
   ]
  },
  {
   "cell_type": "code",
   "execution_count": 117,
   "id": "cb708ca9-591f-4b24-a88c-ecb1a178bc9f",
   "metadata": {},
   "outputs": [
    {
     "name": "stdout",
     "output_type": "stream",
     "text": [
      "0    22.0\n",
      "1    38.0\n",
      "2    26.0\n",
      "3    35.0\n",
      "4    35.0\n",
      "5     NaN\n",
      "6    54.0\n",
      "7     2.0\n",
      "8    27.0\n",
      "9    14.0\n",
      "Name: age, dtype: float64\n",
      "0    22.000000\n",
      "1    38.000000\n",
      "2    26.000000\n",
      "3    35.000000\n",
      "4    35.000000\n",
      "5    29.699118\n",
      "6    54.000000\n",
      "7     2.000000\n",
      "8    27.000000\n",
      "9    14.000000\n",
      "Name: age, dtype: float64\n"
     ]
    }
   ],
   "source": [
    "\n",
    "import seaborn as sns\n",
    "\n",
    "# titanic 데이터셋 가져오기\n",
    "df = sns.load_dataset('titanic')\n",
    "# df\n",
    "# df.info()\n",
    "\n",
    "# 누락 데이터 대체 - fillna()\n",
    "# 1 평균(mean()), 2.최빈값(mode())\n",
    "print(df['age'].head(10))\n",
    "\n",
    "# age 행의 평균\n",
    "mean_age = df['age'].mean(axis=0)\n",
    "# print(mean_age)\n",
    "\n",
    "# fillna(평균값)\n",
    "mean_age = df['age'].fillna(mean_age)\n",
    "# print(mean_age)\n",
    "print(mean_age.head(10))"
   ]
  },
  {
   "cell_type": "code",
   "execution_count": 119,
   "id": "d096f984-00a0-4276-8983-424dd2b2c217",
   "metadata": {},
   "outputs": [
    {
     "name": "stdout",
     "output_type": "stream",
     "text": [
      "820    Southampton\n",
      "821    Southampton\n",
      "822    Southampton\n",
      "823    Southampton\n",
      "824    Southampton\n",
      "825     Queenstown\n",
      "826    Southampton\n",
      "827      Cherbourg\n",
      "828     Queenstown\n",
      "829            NaN\n",
      "830      Cherbourg\n",
      "Name: embark_town, dtype: object\n",
      "820    Southampton\n",
      "821    Southampton\n",
      "822    Southampton\n",
      "823    Southampton\n",
      "824    Southampton\n",
      "825     Queenstown\n",
      "826    Southampton\n",
      "827      Cherbourg\n",
      "828     Queenstown\n",
      "829    Southampton\n",
      "830      Cherbourg\n",
      "Name: embark_town, dtype: object\n"
     ]
    }
   ],
   "source": [
    "# 최빈값으로 대체하기 - fillna(최빈값)\n",
    "# df.info()\n",
    "# 승선한 도시의 NaN을 최빈값으로 대체하기\n",
    "print(df['embark_town'][820:831])\n",
    "\n",
    "most_freq = df['embark_town'].mode()[0]\n",
    "df['embark_town'] = df['embark_town'].fillna(most_freq)\n",
    "print(df['embark_town'][820:831])"
   ]
  }
 ],
 "metadata": {
  "kernelspec": {
   "display_name": "Python 3 (ipykernel)",
   "language": "python",
   "name": "python3"
  },
  "language_info": {
   "codemirror_mode": {
    "name": "ipython",
    "version": 3
   },
   "file_extension": ".py",
   "mimetype": "text/x-python",
   "name": "python",
   "nbconvert_exporter": "python",
   "pygments_lexer": "ipython3",
   "version": "3.12.4"
  }
 },
 "nbformat": 4,
 "nbformat_minor": 5
}
